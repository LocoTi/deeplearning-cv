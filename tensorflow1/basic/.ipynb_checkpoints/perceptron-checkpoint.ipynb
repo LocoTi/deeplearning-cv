{
 "cells": [
  {
   "cell_type": "code",
   "execution_count": 1,
   "metadata": {},
   "outputs": [],
   "source": [
    "import numpy as np\n",
    "import pandas as pd\n",
    "import tensorflow as tf\n",
    "import matplotlib.pyplot as plt"
   ]
  },
  {
   "cell_type": "markdown",
   "metadata": {},
   "source": [
    "## 数据"
   ]
  },
  {
   "cell_type": "code",
   "execution_count": 2,
   "metadata": {},
   "outputs": [
    {
     "name": "stdout",
     "output_type": "stream",
     "text": [
      "Class label counts: [50 50]\n",
      "X.shape: (100, 2)\n",
      "y.shape: (100,)\n"
     ]
    }
   ],
   "source": [
    "df = pd.read_csv(\"../data/perceptron_toydata.txt\", sep=\"\\t\", header=None)\n",
    "data = df.to_numpy()\n",
    "X, y = data[:, :2], data[:, 2]\n",
    "y = y.astype(np.int)\n",
    "\n",
    "print('Class label counts:', np.bincount(y))\n",
    "print('X.shape:', X.shape)\n",
    "print('y.shape:', y.shape)"
   ]
  },
  {
   "cell_type": "code",
   "execution_count": 3,
   "metadata": {},
   "outputs": [],
   "source": [
    "# shuffle\n",
    "n, m = X.shape\n",
    "np.random.seed(47)\n",
    "shuffle_idx = np.random.permutation(n)\n",
    "X, y = X[shuffle_idx], y[shuffle_idx]\n",
    "\n",
    "X_train, X_test = X[shuffle_idx[:70]], X[shuffle_idx[70:]]\n",
    "y_train, y_test = y[shuffle_idx[:70]], y[shuffle_idx[70:]]\n",
    "y_train, y_test = y_train.reshape((-1, 1)), y_test.reshape((-1, 1))\n",
    "\n",
    "# normalizae (mean zero, unit variance)\n",
    "mu, sigma = np.mean(X_train, axis=0), np.std(X_train, axis=0)\n",
    "X_train = (X_train - mu) / sigma\n",
    "X_test = (X_test - mu) / sigma"
   ]
  },
  {
   "cell_type": "code",
   "execution_count": 4,
   "metadata": {},
   "outputs": [
    {
     "data": {
      "image/png": "[encoded data removed]",
      "text/plain": [
       "<Figure size 432x288 with 1 Axes>"
      ]
     },
     "metadata": {
      "needs_background": "light"
     },
     "output_type": "display_data"
    }
   ],
   "source": [
    "plt.scatter(X_train[y_train[:, 0]==0, 0], X_train[y_train[:, 0]==0, 1], label='class 0', marker='o')\n",
    "plt.scatter(X_train[y_train[:, 0]==1, 0], X_train[y_train[:, 0]==1, 1], label='class 1', marker='s')\n",
    "plt.xlabel('feature 1')\n",
    "plt.ylabel('feature 2')\n",
    "plt.legend()\n",
    "plt.show()"
   ]
  },
  {
   "cell_type": "markdown",
   "metadata": {},
   "source": [
    "## 参数"
   ]
  },
  {
   "cell_type": "code",
   "execution_count": 5,
   "metadata": {},
   "outputs": [],
   "source": [
    "n_features = X_train.shape[1]\n",
    "n_samples = X_train.shape[0]\n",
    "learning_rate = 0.001\n",
    "epochs = 5000"
   ]
  },
  {
   "cell_type": "markdown",
   "metadata": {},
   "source": [
    "## 网络"
   ]
  },
  {
   "cell_type": "code",
   "execution_count": 6,
   "metadata": {},
   "outputs": [],
   "source": [
    "# model definition\n",
    "g = tf.Graph()\n",
    "with g.as_default():\n",
    "    # input\n",
    "    X = tf.placeholder(dtype=tf.float32, shape=[None, n_features], name=\"X\")\n",
    "    # output\n",
    "    Y = tf.placeholder(dtype=tf.float32, shape=[None, 1], name=\"Y\")\n",
    "    \n",
    "    # weights\n",
    "    weights = tf.Variable(tf.truncated_normal(shape=[n_features, 1]), dtype=tf.float32, name=\"W\")\n",
    "    bias = tf.Variable(tf.zeros([1]), dtype=tf.float32, name=\"b\")\n",
    "    \n",
    "    # model\n",
    "    pred = tf.nn.sigmoid(tf.add(tf.matmul(X, weights), bias), name=\"prediction\")\n",
    "    \n",
    "    # cost\n",
    "    cost = tf.reduce_mean(-(tf.reduce_sum(Y * tf.log(pred)) + (1-Y) * tf.log(1-pred)))\n",
    "    \n",
    "    # optimizer\n",
    "    optimizer = tf.train.GradientDescentOptimizer(learning_rate=learning_rate)\n",
    "    \n",
    "    # train op\n",
    "    train_op = optimizer.minimize(cost)\n",
    "    \n",
    "    saver = tf.train.Saver(name=\"saver\")"
   ]
  },
  {
   "cell_type": "markdown",
   "metadata": {},
   "source": [
    "## 训练"
   ]
  },
  {
   "cell_type": "code",
   "execution_count": 7,
   "metadata": {},
   "outputs": [
    {
     "name": "stdout",
     "output_type": "stream",
     "text": [
      "Epoch: 499/5000, loss: 1.6454979181289673\n",
      "Epoch: 999/5000, loss: 0.9996465444564819\n",
      "Epoch: 1499/5000, loss: 0.7827258110046387\n",
      "Epoch: 1999/5000, loss: 0.6695297360420227\n",
      "Epoch: 2499/5000, loss: 0.5978841781616211\n",
      "Epoch: 2999/5000, loss: 0.5473476052284241\n",
      "Epoch: 3499/5000, loss: 0.5091673135757446\n",
      "Epoch: 3999/5000, loss: 0.4789380133152008\n",
      "Epoch: 4499/5000, loss: 0.45418235659599304\n",
      "Epoch: 4999/5000, loss: 0.4333910048007965\n",
      "test loss: 0.6837217013041178\n",
      "w: [[3.2458034]\n",
      " [1.595413 ]], b: [2.8827584]\n"
     ]
    }
   ],
   "source": [
    "with tf.Session(graph=g) as sess:\n",
    "    sess.run(tf.global_variables_initializer())\n",
    "    \n",
    "    for epoch in range(epochs):\n",
    "        _ = sess.run(train_op, feed_dict={X: X_train, Y: y_train})\n",
    "        \n",
    "        if (epoch+1) % 500 == 0:\n",
    "            loss = sess.run(cost, feed_dict={X: X_train, Y: y_train})\n",
    "            print(\"Epoch: {}/{}, loss: {}\".format(epoch, epochs, loss))\n",
    "    \n",
    "    loss = sess.run(cost, feed_dict={X: X_test, Y: y_test})\n",
    "    loss = loss * n_samples / X_test.shape[0]\n",
    "    print(\"test loss: {}\".format(loss))\n",
    "    \n",
    "    w, b = sess.run([weights, bias])\n",
    "    print(\"w: {}, b: {}\".format(w, b))"
   ]
  },
  {
   "cell_type": "code",
   "execution_count": 8,
   "metadata": {},
   "outputs": [
    {
     "data": {
      "image/png": "[encoded data removed]",
      "text/plain": [
       "<Figure size 504x216 with 2 Axes>"
      ]
     },
     "metadata": {
      "needs_background": "light"
     },
     "output_type": "display_data"
    }
   ],
   "source": [
    "x_min = -2\n",
    "y_min = ( -(w[0] * x_min) / w[1]\n",
    "          -(b[0] / w[1]) )\n",
    "\n",
    "x_max = 2\n",
    "y_max = ( -(w[0] * x_max) / w[1]\n",
    "          -(b[0] / w[1]) )\n",
    "\n",
    "fig, ax = plt.subplots(1, 2, sharex=True, figsize=(7, 3))\n",
    "\n",
    "ax[0].plot([x_min, x_max], [y_min, y_max])\n",
    "ax[1].plot([x_min, x_max], [y_min, y_max])\n",
    "\n",
    "ax[0].scatter(X_train[y_train[:, 0]==0, 0], X_train[y_train[:, 0]==0, 1], label='class 0', marker='o')\n",
    "ax[0].scatter(X_train[y_train[:, 0]==1, 0], X_train[y_train[:, 0]==1, 1], label='class 1', marker='s')\n",
    "\n",
    "ax[1].scatter(X_test[y_test[:, 0]==0, 0], X_test[y_test[:, 0]==0, 1], label='class 0', marker='o')\n",
    "ax[1].scatter(X_test[y_test[:, 0]==1, 0], X_test[y_test[:, 0]==1, 1], label='class 1', marker='s')\n",
    "\n",
    "ax[1].legend(loc='upper left')\n",
    "plt.show()"
   ]
  }
 ],
 "metadata": {
  "kernelspec": {
   "display_name": "Python 3",
   "language": "python",
   "name": "python3"
  },
  "language_info": {
   "codemirror_mode": {
    "name": "ipython",
    "version": 3
   },
   "file_extension": ".py",
   "mimetype": "text/x-python",
   "name": "python",
   "nbconvert_exporter": "python",
   "pygments_lexer": "ipython3",
   "version": "3.6.10"
  }
 },
 "nbformat": 4,
 "nbformat_minor": 4
}
