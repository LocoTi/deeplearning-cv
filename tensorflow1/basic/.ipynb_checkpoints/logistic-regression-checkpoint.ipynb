{
 "cells": [
  {
   "cell_type": "code",
   "execution_count": 1,
   "metadata": {},
   "outputs": [],
   "source": [
    "import tensorflow as tf\n",
    "import matplotlib.pyplot as plt\n",
    "import numpy as np\n",
    "import pandas as pd"
   ]
  },
  {
   "cell_type": "markdown",
   "metadata": {},
   "source": [
    "## 数据"
   ]
  },
  {
   "cell_type": "code",
   "execution_count": 2,
   "metadata": {},
   "outputs": [
    {
     "name": "stdout",
     "output_type": "stream",
     "text": [
      "x_train.shape: (70, 2)\n",
      "y_train.shape: (70, 1)\n"
     ]
    },
    {
     "data": {
      "image/png": "[encoded data removed]",
      "text/plain": [
       "<Figure size 504x180 with 2 Axes>"
      ]
     },
     "metadata": {
      "needs_background": "light"
     },
     "output_type": "display_data"
    }
   ],
   "source": [
    "df = pd.read_csv(\"../data/iris.data\", sep=\",\")\n",
    "data = df.to_numpy()\n",
    "\n",
    "x = data[:100, :2].astype(np.float)\n",
    "y = np.zeros(100)\n",
    "y[50:] = 1\n",
    "\n",
    "n, m = x.shape\n",
    "shuffle_idx = np.random.permutation(n)\n",
    "x, y = x[shuffle_idx], y[shuffle_idx]\n",
    "\n",
    "x_train, x_test = x[:70], x[70:]\n",
    "y_train, y_test = y[:70], y[70:]\n",
    "\n",
    "mu, std = np.mean(x_train, axis=0), np.std(x_train, axis=0)\n",
    "x_train, x_test = (x_train - mu) / std, (x_test - mu) / std\n",
    "y_train, y_test = y_train.reshape((-1, 1)), y_test.reshape((-1, 1))\n",
    "print('x_train.shape:', x_train.shape)\n",
    "print('y_train.shape:', y_train.shape)\n",
    "\n",
    "fig, ax = plt.subplots(1, 2, figsize=(7, 2.5))\n",
    "ax[0].scatter(x_train[y_train[:, 0] == 1, 0], x_train[y_train[:, 0] == 1, 1])\n",
    "ax[0].scatter(x_train[y_train[:, 0] == 0, 0], x_train[y_train[:, 0] == 0, 1])\n",
    "ax[1].scatter(x_test[y_test[:, 0] == 1, 0], x_test[y_test[:, 0] == 1, 1])\n",
    "ax[1].scatter(x_test[y_test[:, 0] == 0, 0], x_test[y_test[:, 0] == 0, 1])\n",
    "plt.show()"
   ]
  },
  {
   "cell_type": "code",
   "execution_count": 3,
   "metadata": {},
   "outputs": [],
   "source": [
    "def nextbatch(data, batch_size, shuffle=False, seed=None):\n",
    "    rstate = np.random.RandomState(seed)\n",
    "    indices = np.arange(data[0].shape[0])\n",
    "    \n",
    "    if shuffle:\n",
    "        rstate.shuffle(indices)\n",
    "    # \n",
    "    for start_idx in range(0, indices.shape[0] - batch_size + 1, batch_size):\n",
    "        index_slice = indices[start_idx: start_idx + batch_size]\n",
    "        \n",
    "        yield (arr[index_slice] for arr in data)"
   ]
  },
  {
   "cell_type": "markdown",
   "metadata": {},
   "source": [
    "## 参数"
   ]
  },
  {
   "cell_type": "code",
   "execution_count": 4,
   "metadata": {},
   "outputs": [],
   "source": [
    "n_samples = x.shape[0]\n",
    "n_features = x.shape[1]\n",
    "\n",
    "learning_rate = 0.05\n",
    "epochs = 15\n",
    "batch_size = 10"
   ]
  },
  {
   "cell_type": "markdown",
   "metadata": {},
   "source": [
    "## 模型"
   ]
  },
  {
   "cell_type": "code",
   "execution_count": 5,
   "metadata": {},
   "outputs": [],
   "source": [
    "g = tf.Graph()\n",
    "with g.as_default() as g:\n",
    "    # input\n",
    "    X = tf.placeholder(dtype=tf.float32, shape=[None, n_features], name=\"X\")\n",
    "    # output\n",
    "    Y = tf.placeholder(dtype=tf.float32, shape=[None, 1], name=\"Y\")\n",
    "    \n",
    "    # weights\n",
    "    weights = tf.Variable(tf.truncated_normal(shape=[n_features, 1]), dtype=tf.float32, name=\"W\")\n",
    "    bias = tf.Variable(tf.zeros([1]), dtype=tf.float32, name=\"b\")\n",
    "    \n",
    "    # model\n",
    "    linear = tf.add(tf.matmul(X, weights), bias)\n",
    "    pred = tf.sigmoid(linear, name = \"prediction\")\n",
    "    \n",
    "    # cost\n",
    "    cost = tf.reduce_mean(-tf.reduce_sum(Y*tf.log(pred) + (1-Y)*tf.log(1-pred)), name=\"cost\")\n",
    "    \n",
    "    # optimizer\n",
    "    optimizer = tf.train.GradientDescentOptimizer(learning_rate=learning_rate)\n",
    "    train_op = optimizer.minimize(cost)\n",
    "    \n",
    "    # metrics\n",
    "    pred_labels = tf.round(pred, name='predict_labels')\n",
    "    assert(Y.get_shape().as_list() == pred.get_shape().as_list())\n",
    "    correct_prediction = tf.equal(tf.cast(Y, tf.int64), tf.cast(pred_labels, tf.int64))\n",
    "    accuracy = tf.reduce_mean(tf.cast(correct_prediction, tf.float32), name='accuracy')"
   ]
  },
  {
   "cell_type": "markdown",
   "metadata": {},
   "source": [
    "## train"
   ]
  },
  {
   "cell_type": "code",
   "execution_count": 6,
   "metadata": {},
   "outputs": [
    {
     "name": "stdout",
     "output_type": "stream",
     "text": [
      "Epoch: 000 | AvgCost: nan | Train/Valid ACC: 0.03/0.00\n",
      "Epoch: 001 | AvgCost: 5.421 | Train/Valid ACC: 0.97/1.00\n",
      "Epoch: 002 | AvgCost: 1.475 | Train/Valid ACC: 0.97/1.00\n",
      "Epoch: 003 | AvgCost: 0.774 | Train/Valid ACC: 0.97/1.00\n",
      "Epoch: 004 | AvgCost: 0.512 | Train/Valid ACC: 0.97/1.00\n",
      "Epoch: 005 | AvgCost: 0.380 | Train/Valid ACC: 0.97/1.00\n",
      "Epoch: 006 | AvgCost: 0.301 | Train/Valid ACC: 0.96/1.00\n",
      "Epoch: 007 | AvgCost: 0.249 | Train/Valid ACC: 0.96/1.00\n",
      "Epoch: 008 | AvgCost: 0.212 | Train/Valid ACC: 0.96/1.00\n",
      "Epoch: 009 | AvgCost: 0.185 | Train/Valid ACC: 0.96/1.00\n",
      "Epoch: 010 | AvgCost: 0.164 | Train/Valid ACC: 0.96/1.00\n",
      "Epoch: 011 | AvgCost: 0.147 | Train/Valid ACC: 0.96/1.00\n",
      "Epoch: 012 | AvgCost: 0.134 | Train/Valid ACC: 0.96/1.00\n",
      "Epoch: 013 | AvgCost: 0.122 | Train/Valid ACC: 0.96/1.00\n",
      "Epoch: 014 | AvgCost: 0.113 | Train/Valid ACC: 0.96/1.00\n",
      "\n",
      "Weights:\n",
      " [[ 2.4281611]\n",
      " [-2.417197 ]]\n",
      "\n",
      "Bias:\n",
      " [-0.3186389]\n"
     ]
    }
   ],
   "source": [
    "with tf.Session(graph=g) as sess:\n",
    "    sess.run(tf.global_variables_initializer())\n",
    "    \n",
    "    avg_cost = np.nan\n",
    "    count = 1\n",
    "    \n",
    "    for epoch in range(epochs):\n",
    "        train_acc = sess.run(accuracy, feed_dict={X: x_train, Y: y_train})\n",
    "        valid_acc = sess.run(accuracy, feed_dict={X: x_test, Y: y_test}) \n",
    "\n",
    "        print(\"Epoch: %03d | AvgCost: %.3f\" % (epoch, avg_cost / count), end=\"\")\n",
    "        print(\" | Train/Valid ACC: %.2f/%.2f\" % (train_acc, valid_acc))\n",
    "        \n",
    "        avg_cost = 0.\n",
    "        for x_batch, y_batch in nextbatch(data=[x_train, y_train],\n",
    "                                                    batch_size=batch_size, \n",
    "                                                    shuffle=True, seed=123):\n",
    "            \n",
    "            _, c = sess.run([train_op, cost], feed_dict={X: x_batch, Y: y_batch})\n",
    "\n",
    "            avg_cost += c\n",
    "            count += 1\n",
    "\n",
    "    w, b = sess.run([weights, bias])\n",
    "    print('\\nWeights:\\n', w)\n",
    "    print('\\nBias:\\n', b)"
   ]
  },
  {
   "cell_type": "code",
   "execution_count": 7,
   "metadata": {},
   "outputs": [
    {
     "data": {
      "image/png": "[encoded data removed]",
      "text/plain": [
       "<Figure size 504x180 with 2 Axes>"
      ]
     },
     "metadata": {
      "needs_background": "light"
     },
     "output_type": "display_data"
    }
   ],
   "source": [
    "fig, ax = plt.subplots(1, 2, figsize=(7, 2.5))\n",
    "ax[0].scatter(x_train[y_train[:, 0] == 1, 0], x_train[y_train[:, 0] == 1, 1])\n",
    "ax[0].scatter(x_train[y_train[:, 0] == 0, 0], x_train[y_train[:, 0] == 0, 1])\n",
    "ax[1].scatter(x_test[y_test[:, 0] == 1, 0], x_test[y_test[:, 0] == 1, 1])\n",
    "ax[1].scatter(x_test[y_test[:, 0] == 0, 0], x_test[y_test[:, 0] == 0, 1])\n",
    "\n",
    "\n",
    "plt.show()"
   ]
  }
 ],
 "metadata": {
  "kernelspec": {
   "display_name": "Python 3",
   "language": "python",
   "name": "python3"
  },
  "language_info": {
   "codemirror_mode": {
    "name": "ipython",
    "version": 3
   },
   "file_extension": ".py",
   "mimetype": "text/x-python",
   "name": "python",
   "nbconvert_exporter": "python",
   "pygments_lexer": "ipython3",
   "version": "3.6.10"
  }
 },
 "nbformat": 4,
 "nbformat_minor": 4
}
