{
 "cells": [
  {
   "cell_type": "code",
   "execution_count": 1,
   "metadata": {},
   "outputs": [],
   "source": [
    "import tensorflow as tf\n",
    "from tensorflow.examples.tutorials.mnist import input_data"
   ]
  },
  {
   "cell_type": "markdown",
   "metadata": {},
   "source": [
    "### data"
   ]
  },
  {
   "cell_type": "code",
   "execution_count": 2,
   "metadata": {
    "scrolled": true
   },
   "outputs": [
    {
     "name": "stdout",
     "output_type": "stream",
     "text": [
      "WARNING:tensorflow:From <ipython-input-2-a10126cd3776>:1: read_data_sets (from tensorflow.contrib.learn.python.learn.datasets.mnist) is deprecated and will be removed in a future version.\n",
      "Instructions for updating:\n",
      "Please use alternatives such as official/mnist/dataset.py from tensorflow/models.\n",
      "WARNING:tensorflow:From D:\\AdvanceIDE\\Anaconda3\\envs\\mlenv\\lib\\site-packages\\tensorflow_core\\contrib\\learn\\python\\learn\\datasets\\mnist.py:260: maybe_download (from tensorflow.contrib.learn.python.learn.datasets.base) is deprecated and will be removed in a future version.\n",
      "Instructions for updating:\n",
      "Please write your own downloading logic.\n",
      "WARNING:tensorflow:From D:\\AdvanceIDE\\Anaconda3\\envs\\mlenv\\lib\\site-packages\\tensorflow_core\\contrib\\learn\\python\\learn\\datasets\\mnist.py:262: extract_images (from tensorflow.contrib.learn.python.learn.datasets.mnist) is deprecated and will be removed in a future version.\n",
      "Instructions for updating:\n",
      "Please use tf.data to implement this functionality.\n",
      "Extracting D:/work/data/Python/tensorflow/mnist/data/train-images-idx3-ubyte.gz\n",
      "WARNING:tensorflow:From D:\\AdvanceIDE\\Anaconda3\\envs\\mlenv\\lib\\site-packages\\tensorflow_core\\contrib\\learn\\python\\learn\\datasets\\mnist.py:267: extract_labels (from tensorflow.contrib.learn.python.learn.datasets.mnist) is deprecated and will be removed in a future version.\n",
      "Instructions for updating:\n",
      "Please use tf.data to implement this functionality.\n",
      "Extracting D:/work/data/Python/tensorflow/mnist/data/train-labels-idx1-ubyte.gz\n",
      "WARNING:tensorflow:From D:\\AdvanceIDE\\Anaconda3\\envs\\mlenv\\lib\\site-packages\\tensorflow_core\\contrib\\learn\\python\\learn\\datasets\\mnist.py:110: dense_to_one_hot (from tensorflow.contrib.learn.python.learn.datasets.mnist) is deprecated and will be removed in a future version.\n",
      "Instructions for updating:\n",
      "Please use tf.one_hot on tensors.\n",
      "Extracting D:/work/data/Python/tensorflow/mnist/data/t10k-images-idx3-ubyte.gz\n",
      "Extracting D:/work/data/Python/tensorflow/mnist/data/t10k-labels-idx1-ubyte.gz\n",
      "WARNING:tensorflow:From D:\\AdvanceIDE\\Anaconda3\\envs\\mlenv\\lib\\site-packages\\tensorflow_core\\contrib\\learn\\python\\learn\\datasets\\mnist.py:290: DataSet.__init__ (from tensorflow.contrib.learn.python.learn.datasets.mnist) is deprecated and will be removed in a future version.\n",
      "Instructions for updating:\n",
      "Please use alternatives such as official/mnist/dataset.py from tensorflow/models.\n"
     ]
    }
   ],
   "source": [
    "data = input_data.read_data_sets(\"D:/work/data/Python/tensorflow/mnist/data/\", one_hot=True)"
   ]
  },
  {
   "cell_type": "markdown",
   "metadata": {},
   "source": [
    "### 参数"
   ]
  },
  {
   "cell_type": "code",
   "execution_count": 3,
   "metadata": {},
   "outputs": [],
   "source": [
    "learning_rate = 0.01\n",
    "epochs = 100\n",
    "batch_size = 64\n",
    "\n",
    "n_features = 784\n",
    "n_classes = 10\n",
    "n_hidden = 128"
   ]
  },
  {
   "cell_type": "markdown",
   "metadata": {},
   "source": [
    "### model"
   ]
  },
  {
   "cell_type": "code",
   "execution_count": 4,
   "metadata": {},
   "outputs": [],
   "source": [
    "g = tf.Graph()\n",
    "with g.as_default():\n",
    "    X = tf.placeholder(tf.float32, [None, 784], name=\"X\")\n",
    "    Y = tf.placeholder(tf.float32, [None, 10], name=\"Y\")\n",
    "    \n",
    "    weights = {\n",
    "        \"W1\": tf.Variable(tf.truncated_normal([784, n_hidden])),\n",
    "        \"out\": tf.Variable(tf.truncated_normal([n_hidden, n_classes]))\n",
    "    }\n",
    "    \n",
    "    bias = {\n",
    "        \"b1\": tf.Variable(tf.zeros([n_hidden])),\n",
    "        \"out\": tf.Variable(tf.zeros([n_classes]))\n",
    "    }\n",
    "    \n",
    "    fc1 = tf.matmul(X, weights[\"W1\"]) + bias[\"b1\"]\n",
    "    fc1 = tf.nn.relu(fc1)\n",
    "    out = tf.matmul(fc1, weights[\"out\"]) + bias[\"out\"]\n",
    "    \n",
    "    pred = tf.nn.softmax(out, name=\"prediction\")\n",
    "    \n",
    "    # loss\n",
    "    cost = tf.reduce_mean(tf.nn.softmax_cross_entropy_with_logits_v2(labels=Y, logits=pred))\n",
    "    \n",
    "    # optimizer\n",
    "    optimizer = tf.train.GradientDescentOptimizer(learning_rate=learning_rate)\n",
    "    \n",
    "    # train op\n",
    "    train_op = optimizer.minimize(cost)\n",
    "    \n",
    "    # accuracy\n",
    "    pred_labels = tf.argmax(pred, axis=1, name=\"prediction_label\")\n",
    "    correct = tf.equal(tf.argmax(Y, axis=1), pred_labels)\n",
    "    accuracy = tf.reduce_mean(tf.cast(correct, tf.float32), name=\"accuracy\")"
   ]
  },
  {
   "cell_type": "markdown",
   "metadata": {},
   "source": [
    "### train"
   ]
  },
  {
   "cell_type": "code",
   "execution_count": 5,
   "metadata": {},
   "outputs": [
    {
     "name": "stdout",
     "output_type": "stream",
     "text": [
      "Epoch: 020 | AvgCost: 2.084 | Train/Valid ACC: 0.376/0.367\n",
      "Epoch: 040 | AvgCost: 2.039 | Train/Valid ACC: 0.421/0.415\n",
      "Epoch: 060 | AvgCost: 2.029 | Train/Valid ACC: 0.431/0.438\n",
      "Epoch: 080 | AvgCost: 2.003 | Train/Valid ACC: 0.457/0.448\n",
      "Epoch: 100 | AvgCost: 1.993 | Train/Valid ACC: 0.467/0.490\n",
      "Test ACC: 0.484\n"
     ]
    }
   ],
   "source": [
    "with tf.Session(graph=g) as sess:\n",
    "    sess.run(tf.global_variables_initializer())\n",
    "    \n",
    "    for epoch in range(epochs):\n",
    "        avg_cost = 0\n",
    "        total_batch = data.train.num_examples // batch_size\n",
    "        \n",
    "        for i in range(total_batch):\n",
    "            batch_x, batch_y = data.train.next_batch(batch_size=batch_size)\n",
    "            _ = sess.run([train_op], feed_dict={X: batch_x, Y: batch_y})\n",
    "        \n",
    "        if (epoch + 1) % 20 == 0:\n",
    "            train_acc, c = sess.run([accuracy, cost], feed_dict={X: data.train.images[:5000], \n",
    "                                                          Y: data.train.labels[:5000]})\n",
    "            valid_acc = sess.run(accuracy, feed_dict={X: data.validation.images, Y: data.validation.labels})\n",
    "\n",
    "            print(\"Epoch: %03d | AvgCost: %.3f\" % (epoch + 1, c), end=\"\")\n",
    "            print(\" | Train/Valid ACC: %.3f/%.3f\" % (train_acc, valid_acc))\n",
    "\n",
    "    test_acc = sess.run(accuracy, feed_dict={X: data.test.images, Y: data.test.labels})\n",
    "    print('Test ACC: %.3f' % test_acc)"
   ]
  }
 ],
 "metadata": {
  "kernelspec": {
   "display_name": "Python 3",
   "language": "python",
   "name": "python3"
  },
  "language_info": {
   "codemirror_mode": {
    "name": "ipython",
    "version": 3
   },
   "file_extension": ".py",
   "mimetype": "text/x-python",
   "name": "python",
   "nbconvert_exporter": "python",
   "pygments_lexer": "ipython3",
   "version": "3.6.10"
  }
 },
 "nbformat": 4,
 "nbformat_minor": 4
}
