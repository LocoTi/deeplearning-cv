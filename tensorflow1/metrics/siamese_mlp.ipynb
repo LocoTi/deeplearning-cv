{
 "cells": [
  {
   "cell_type": "code",
   "execution_count": 1,
   "metadata": {},
   "outputs": [],
   "source": [
    "import numpy as np\n",
    "import tensorflow as tf\n",
    "from tensorflow.examples.tutorials.mnist import input_data"
   ]
  },
  {
   "cell_type": "markdown",
   "metadata": {},
   "source": [
    "### data"
   ]
  },
  {
   "cell_type": "code",
   "execution_count": 2,
   "metadata": {
    "scrolled": true
   },
   "outputs": [
    {
     "name": "stdout",
     "output_type": "stream",
     "text": [
      "WARNING:tensorflow:From <ipython-input-2-8a8a89738ddc>:1: read_data_sets (from tensorflow.contrib.learn.python.learn.datasets.mnist) is deprecated and will be removed in a future version.\n",
      "Instructions for updating:\n",
      "Please use alternatives such as official/mnist/dataset.py from tensorflow/models.\n",
      "WARNING:tensorflow:From D:\\AdvanceIDE\\Anaconda3\\envs\\mlenv\\lib\\site-packages\\tensorflow_core\\contrib\\learn\\python\\learn\\datasets\\mnist.py:260: maybe_download (from tensorflow.contrib.learn.python.learn.datasets.base) is deprecated and will be removed in a future version.\n",
      "Instructions for updating:\n",
      "Please write your own downloading logic.\n",
      "WARNING:tensorflow:From D:\\AdvanceIDE\\Anaconda3\\envs\\mlenv\\lib\\site-packages\\tensorflow_core\\contrib\\learn\\python\\learn\\datasets\\mnist.py:262: extract_images (from tensorflow.contrib.learn.python.learn.datasets.mnist) is deprecated and will be removed in a future version.\n",
      "Instructions for updating:\n",
      "Please use tf.data to implement this functionality.\n",
      "Extracting D:/work/data/Python/tensorflow/mnist/data/train-images-idx3-ubyte.gz\n",
      "WARNING:tensorflow:From D:\\AdvanceIDE\\Anaconda3\\envs\\mlenv\\lib\\site-packages\\tensorflow_core\\contrib\\learn\\python\\learn\\datasets\\mnist.py:267: extract_labels (from tensorflow.contrib.learn.python.learn.datasets.mnist) is deprecated and will be removed in a future version.\n",
      "Instructions for updating:\n",
      "Please use tf.data to implement this functionality.\n",
      "Extracting D:/work/data/Python/tensorflow/mnist/data/train-labels-idx1-ubyte.gz\n",
      "Extracting D:/work/data/Python/tensorflow/mnist/data/t10k-images-idx3-ubyte.gz\n",
      "Extracting D:/work/data/Python/tensorflow/mnist/data/t10k-labels-idx1-ubyte.gz\n",
      "WARNING:tensorflow:From D:\\AdvanceIDE\\Anaconda3\\envs\\mlenv\\lib\\site-packages\\tensorflow_core\\contrib\\learn\\python\\learn\\datasets\\mnist.py:290: DataSet.__init__ (from tensorflow.contrib.learn.python.learn.datasets.mnist) is deprecated and will be removed in a future version.\n",
      "Instructions for updating:\n",
      "Please use alternatives such as official/mnist/dataset.py from tensorflow/models.\n"
     ]
    }
   ],
   "source": [
    "data = input_data.read_data_sets(\"D:/work/data/Python/tensorflow/mnist/data/\", one_hot=False)"
   ]
  },
  {
   "cell_type": "markdown",
   "metadata": {},
   "source": [
    "### parameter"
   ]
  },
  {
   "cell_type": "code",
   "execution_count": 3,
   "metadata": {},
   "outputs": [],
   "source": [
    "random_seed = 47\n",
    "\n",
    "learning_rate = 0.001\n",
    "epochs = 5\n",
    "batch_size = 100\n",
    "margin = 1.0\n",
    "\n",
    "n_hidden_1 = 256\n",
    "n_hidden_2 = 256\n",
    "n_input = 784\n",
    "n_classes = 1 # for 'true' and 'false' matches"
   ]
  },
  {
   "cell_type": "markdown",
   "metadata": {},
   "source": [
    "### model"
   ]
  },
  {
   "cell_type": "code",
   "execution_count": 4,
   "metadata": {},
   "outputs": [
    {
     "name": "stdout",
     "output_type": "stream",
     "text": [
      "WARNING:tensorflow:From <ipython-input-4-07c4c364bbb1>:10: calling TruncatedNormal.__init__ (from tensorflow.python.ops.init_ops) with dtype is deprecated and will be removed in a future version.\n",
      "Instructions for updating:\n",
      "Call initializer instance with the dtype argument instead of passing it to the constructor\n",
      "WARNING:tensorflow:From <ipython-input-4-07c4c364bbb1>:16: calling Constant.__init__ (from tensorflow.python.ops.init_ops) with dtype is deprecated and will be removed in a future version.\n",
      "Instructions for updating:\n",
      "Call initializer instance with the dtype argument instead of passing it to the constructor\n",
      "WARNING:tensorflow:From D:\\AdvanceIDE\\Anaconda3\\envs\\mlenv\\lib\\site-packages\\tensorflow_core\\python\\ops\\math_grad.py:1424: where (from tensorflow.python.ops.array_ops) is deprecated and will be removed in a future version.\n",
      "Instructions for updating:\n",
      "Use tf.where in 2.0, which has the same broadcast rule as np.where\n"
     ]
    }
   ],
   "source": [
    "def fully_connected(inputs, output_nodes, activation=None, seed=None):\n",
    "\n",
    "    input_nodes = inputs.get_shape().as_list()[1]\n",
    "    weights = tf.get_variable(name='weights', \n",
    "                              shape=(input_nodes, output_nodes),\n",
    "                              initializer=tf.truncated_normal_initializer(\n",
    "                                  mean=0.0,\n",
    "                                  stddev=0.001,\n",
    "                                  dtype=tf.float32,\n",
    "                                  seed=seed))\n",
    "\n",
    "    biases = tf.get_variable(name='biases', \n",
    "                             shape=(output_nodes,),\n",
    "                             initializer=tf.constant_initializer(\n",
    "                                 value=0.0, \n",
    "                                 dtype=tf.float32))\n",
    "\n",
    "    act = tf.matmul(inputs, weights) + biases\n",
    "    if activation is not None:\n",
    "        act = activation(act)\n",
    "    return act\n",
    "\n",
    "\n",
    "def euclidean_distance(x_1, x_2):\n",
    "    return tf.sqrt(tf.maximum(tf.sum(\n",
    "        tf.square(x - y), axis=1, keepdims=True), 1e-06))\n",
    "\n",
    "def contrastive_loss(x_1, x_2, margin=1.0):\n",
    "    return (x_1 * tf.square(x_2) +\n",
    "            (1.0 - x_1) * tf.square(tf.maximum(margin - x_2, 0.)))\n",
    "\n",
    "g = tf.Graph()\n",
    "with g.as_default():\n",
    "    tf.set_random_seed(random_seed)\n",
    "    \n",
    "    X1 = tf.placeholder(tf.float32, [None, n_input], name=\"X1\")\n",
    "    X2 = tf.placeholder(tf.float32, [None, n_input], name=\"X2\")\n",
    "    Y = tf.placeholder(tf.float32, [None], name=\"Y\")\n",
    "    \n",
    "    # Siamese network\n",
    "    def build_mlp(inputs):\n",
    "        with tf.variable_scope(\"fc_1\"):\n",
    "            layer_1 = fully_connected(inputs, n_hidden_1, activation=tf.nn.relu)\n",
    "        with tf.variable_scope(\"fc_2\"):\n",
    "            layer_2 = fully_connected(layer_1, n_hidden_2, activation=tf.nn.relu)\n",
    "        with tf.variable_scope(\"fc_3\"):\n",
    "            out_layer = fully_connected(layer_2, n_classes, activation=tf.nn.relu)\n",
    "        \n",
    "        return out_layer\n",
    "    \n",
    "    with tf.variable_scope(\"siamese_net\", reuse=False):\n",
    "        pred_left = build_mlp(X1)\n",
    "    \n",
    "    with tf.variable_scope(\"siamese_net\", reuse=True):\n",
    "        pred_right = build_mlp(X2)\n",
    "    \n",
    "    loss = contrastive_loss(pred_left, pred_right)\n",
    "    cost = tf.reduce_mean(loss, name=\"cost\")\n",
    "    \n",
    "    optimizer = tf.train.GradientDescentOptimizer(learning_rate=learning_rate)\n",
    "    train_op = optimizer.minimize(cost)"
   ]
  },
  {
   "cell_type": "markdown",
   "metadata": {},
   "source": [
    "### train"
   ]
  },
  {
   "cell_type": "code",
   "execution_count": 5,
   "metadata": {},
   "outputs": [
    {
     "name": "stdout",
     "output_type": "stream",
     "text": [
      "<tf.Variable 'siamese_net/fc_1/weights:0' shape=(784, 256) dtype=float32_ref>\n",
      "<tf.Variable 'siamese_net/fc_1/biases:0' shape=(256,) dtype=float32_ref>\n",
      "<tf.Variable 'siamese_net/fc_2/weights:0' shape=(256, 256) dtype=float32_ref>\n",
      "<tf.Variable 'siamese_net/fc_2/biases:0' shape=(256,) dtype=float32_ref>\n",
      "<tf.Variable 'siamese_net/fc_3/weights:0' shape=(256, 1) dtype=float32_ref>\n",
      "<tf.Variable 'siamese_net/fc_3/biases:0' shape=(1,) dtype=float32_ref>\n",
      "Epoch: 001 | AvgCost: 0.470\n",
      "Epoch: 002 | AvgCost: 0.258\n",
      "Epoch: 003 | AvgCost: 0.250\n",
      "Epoch: 004 | AvgCost: 0.250\n",
      "Epoch: 005 | AvgCost: 0.250\n"
     ]
    }
   ],
   "source": [
    "with tf.Session(graph=g) as sess:\n",
    "    sess.run(tf.global_variables_initializer())\n",
    "    for i in tf.get_collection(tf.GraphKeys.GLOBAL_VARIABLES, scope=\"siamese_net\"):\n",
    "        print(i)\n",
    "    \n",
    "    for epoch in range(epochs):\n",
    "        avg_cost = 0.0\n",
    "        total_batch = data.train.num_examples // batch_size // 2\n",
    "        \n",
    "        for i in range(total_batch):\n",
    "            batch_x_1, batch_y_1 = data.train.next_batch(batch_size)\n",
    "            batch_x_2, batch_y_2 = data.train.next_batch(batch_size)\n",
    "            batch_y = (batch_y_1 == batch_y_2).astype('float32')\n",
    "#             batch_y = np.reshape(batch_y, (-1, 1))\n",
    "            \n",
    "            _, c = sess.run([train_op, cost], feed_dict={X1: batch_x_1, X2: batch_x_2, Y: batch_y})\n",
    "            \n",
    "            avg_cost += c\n",
    "        \n",
    "        print(\"Epoch: %03d | AvgCost: %.3f\" % (epoch + 1, avg_cost / (i + 1)))"
   ]
  }
 ],
 "metadata": {
  "kernelspec": {
   "display_name": "Python 3",
   "language": "python",
   "name": "python3"
  },
  "language_info": {
   "codemirror_mode": {
    "name": "ipython",
    "version": 3
   },
   "file_extension": ".py",
   "mimetype": "text/x-python",
   "name": "python",
   "nbconvert_exporter": "python",
   "pygments_lexer": "ipython3",
   "version": "3.6.10"
  }
 },
 "nbformat": 4,
 "nbformat_minor": 4
}
