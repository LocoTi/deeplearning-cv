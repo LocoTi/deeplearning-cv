{
 "cells": [
  {
   "cell_type": "code",
   "execution_count": 1,
   "metadata": {},
   "outputs": [],
   "source": [
    "import numpy as np\n",
    "import tensorflow as tf\n",
    "from functools import reduce\n",
    "from tensorflow.examples.tutorials.mnist import input_data"
   ]
  },
  {
   "cell_type": "markdown",
   "metadata": {},
   "source": [
    "### data"
   ]
  },
  {
   "cell_type": "code",
   "execution_count": 2,
   "metadata": {},
   "outputs": [
    {
     "name": "stdout",
     "output_type": "stream",
     "text": [
      "WARNING:tensorflow:From <ipython-input-2-a10126cd3776>:1: read_data_sets (from tensorflow.contrib.learn.python.learn.datasets.mnist) is deprecated and will be removed in a future version.\n",
      "Instructions for updating:\n",
      "Please use alternatives such as official/mnist/dataset.py from tensorflow/models.\n",
      "WARNING:tensorflow:From D:\\AdvanceIDE\\Anaconda3\\envs\\mlenv\\lib\\site-packages\\tensorflow_core\\contrib\\learn\\python\\learn\\datasets\\mnist.py:260: maybe_download (from tensorflow.contrib.learn.python.learn.datasets.base) is deprecated and will be removed in a future version.\n",
      "Instructions for updating:\n",
      "Please write your own downloading logic.\n",
      "WARNING:tensorflow:From D:\\AdvanceIDE\\Anaconda3\\envs\\mlenv\\lib\\site-packages\\tensorflow_core\\contrib\\learn\\python\\learn\\datasets\\mnist.py:262: extract_images (from tensorflow.contrib.learn.python.learn.datasets.mnist) is deprecated and will be removed in a future version.\n",
      "Instructions for updating:\n",
      "Please use tf.data to implement this functionality.\n",
      "Extracting D:/work/data/Python/tensorflow/mnist/data/train-images-idx3-ubyte.gz\n",
      "WARNING:tensorflow:From D:\\AdvanceIDE\\Anaconda3\\envs\\mlenv\\lib\\site-packages\\tensorflow_core\\contrib\\learn\\python\\learn\\datasets\\mnist.py:267: extract_labels (from tensorflow.contrib.learn.python.learn.datasets.mnist) is deprecated and will be removed in a future version.\n",
      "Instructions for updating:\n",
      "Please use tf.data to implement this functionality.\n",
      "Extracting D:/work/data/Python/tensorflow/mnist/data/train-labels-idx1-ubyte.gz\n",
      "WARNING:tensorflow:From D:\\AdvanceIDE\\Anaconda3\\envs\\mlenv\\lib\\site-packages\\tensorflow_core\\contrib\\learn\\python\\learn\\datasets\\mnist.py:110: dense_to_one_hot (from tensorflow.contrib.learn.python.learn.datasets.mnist) is deprecated and will be removed in a future version.\n",
      "Instructions for updating:\n",
      "Please use tf.one_hot on tensors.\n",
      "Extracting D:/work/data/Python/tensorflow/mnist/data/t10k-images-idx3-ubyte.gz\n",
      "Extracting D:/work/data/Python/tensorflow/mnist/data/t10k-labels-idx1-ubyte.gz\n",
      "WARNING:tensorflow:From D:\\AdvanceIDE\\Anaconda3\\envs\\mlenv\\lib\\site-packages\\tensorflow_core\\contrib\\learn\\python\\learn\\datasets\\mnist.py:290: DataSet.__init__ (from tensorflow.contrib.learn.python.learn.datasets.mnist) is deprecated and will be removed in a future version.\n",
      "Instructions for updating:\n",
      "Please use alternatives such as official/mnist/dataset.py from tensorflow/models.\n"
     ]
    }
   ],
   "source": [
    "data = input_data.read_data_sets(\"D:/work/data/Python/tensorflow/mnist/data/\", one_hot=True)"
   ]
  },
  {
   "cell_type": "markdown",
   "metadata": {},
   "source": [
    "### parameters"
   ]
  },
  {
   "cell_type": "code",
   "execution_count": 3,
   "metadata": {},
   "outputs": [],
   "source": [
    "learning_rate = 0.1\n",
    "keep_rate = 0.5\n",
    "epochs = 3\n",
    "batch_size = 32\n",
    "\n",
    "input_size = 784\n",
    "image_width, image_height = 28, 28\n",
    "n_classes = 10\n",
    "\n",
    "print_interval = 500\n",
    "random_seed = 123"
   ]
  },
  {
   "cell_type": "code",
   "execution_count": 4,
   "metadata": {},
   "outputs": [],
   "source": [
    "def conv2d(input_tensor, output_channel, kernel_size=(3,3), strides=(1,1,1,1), \n",
    "           padding=\"SAME\", activation=tf.nn.relu, seed=None, name=\"conv2d\"):\n",
    "    with tf.name_scope(name):\n",
    "        input_channel = input_tensor.get_shape().as_list()[-1]\n",
    "        weights_shape = [kernel_size[0], kernel_size[1], input_channel, output_channel]\n",
    "        weights = tf.Variable(tf.truncated_normal(shape=weights_shape, mean=0.0, stddev=0.01, dtype=tf.float32, seed=seed), name=\"weights\")\n",
    "        biases = tf.Variable(tf.zeros(shape=[output_channel]), name=\"biases\")\n",
    "        \n",
    "        conv = tf.nn.conv2d(input=input_tensor, filter=weights, strides=strides, padding=padding)\n",
    "        act = conv + biases\n",
    "        \n",
    "        if activation is not None:\n",
    "            act = activation(conv)\n",
    "        \n",
    "        return act\n",
    "\n",
    "def dence(input_tensor, output_nodes, activation=tf.nn.relu, seed=None, name=\"dence\"):\n",
    "    with tf.name_scope(name):\n",
    "        input_nodes = input_tensor.get_shape().as_list()[-1]\n",
    "        weights = tf.Variable(tf.truncated_normal(shape=[input_nodes, output_nodes], mean=0.0, stddev=0.01, dtype=tf.float32, seed=seed), name=\"weights\")\n",
    "        biases = tf.Variable(tf.zeros(shape=[output_nodes]), name='biases')\n",
    "        \n",
    "        act = tf.matmul(input_tensor, weights) + biases\n",
    "        \n",
    "        if activation is not None:\n",
    "            act = activation(act)\n",
    "        \n",
    "        return act\n",
    "\n",
    "g = tf.Graph()\n",
    "with g.as_default():\n",
    "    tf.set_random_seed(random_seed)\n",
    "    \n",
    "    X = tf.placeholder(tf.float32, [None, input_size, 1], name=\"X\")\n",
    "    Y = tf.placeholder(tf.float32, [None, n_classes], name=\"Y\")\n",
    "    \n",
    "    keep_proba = tf.placeholder(dtype=tf.float32, shape=None, name=\"keep_proba\")\n",
    "    \n",
    "    inputs = tf.reshape(X, shape=[-1, image_width, image_height, 1])\n",
    "    conv1 = conv2d(inputs, 8, (3,3), (1,1,1,1), activation=tf.nn.relu, name=\"conv1\")\n",
    "    pool1 = tf.nn.max_pool2d(conv1, ksize=(1,2,2,1), strides=(1,2,2,1), padding=\"SAME\", name=\"maxpool1\")\n",
    "    \n",
    "    conv2 = conv2d(pool1, 16, (3,3), (1,1,1,1), activation=tf.nn.relu, name=\"conv2\")\n",
    "    pool2 = tf.nn.max_pool2d(conv2, ksize=(1,2,2,1), strides=(1,2,2,1), padding=\"SAME\", name=\"maxpoll2\")\n",
    "    \n",
    "    dims = pool2.get_shape().as_list()[1:]\n",
    "    dims = reduce(lambda x, y : x * y, dims, 1)\n",
    "    \n",
    "    fc1 = tf.reshape(pool2, shape=(-1, dims))\n",
    "    out = dence(fc1, n_classes, activation=None, name=\"logits\")\n",
    "    \n",
    "    # loss\n",
    "    loss = tf.nn.softmax_cross_entropy_with_logits_v2(labels=Y, logits=out)\n",
    "    cost = tf.reduce_mean(loss, name=\"loss\")\n",
    "    \n",
    "    # optimizer\n",
    "    optimizer = tf.train.GradientDescentOptimizer(learning_rate=learning_rate)\n",
    "    train_op = optimizer.minimize(cost)\n",
    "    \n",
    "    # predict\n",
    "    correct = tf.equal(tf.argmax(Y, 1), tf.argmax(out, 1))\n",
    "    accuracy = tf.reduce_mean(tf.cast(correct, dtype=tf.float32))"
   ]
  },
  {
   "cell_type": "code",
   "execution_count": 5,
   "metadata": {},
   "outputs": [
    {
     "name": "stdout",
     "output_type": "stream",
     "text": [
      "Minibatch: 001 | Cost: 2.303\n",
      "Minibatch: 501 | Cost: 0.185\n",
      "Minibatch: 1001 | Cost: 0.074\n",
      "Minibatch: 1501 | Cost: 0.031\n",
      "Epoch: 001 | AvgCost: 0.523 | Train/Valid ACC: 0.967/0.967\n",
      "Minibatch: 001 | Cost: 0.039\n",
      "Minibatch: 501 | Cost: 0.029\n",
      "Minibatch: 1001 | Cost: 0.034\n",
      "Minibatch: 1501 | Cost: 0.087\n",
      "Epoch: 002 | AvgCost: 0.099 | Train/Valid ACC: 0.963/0.966\n",
      "Minibatch: 001 | Cost: 0.023\n",
      "Minibatch: 501 | Cost: 0.105\n",
      "Minibatch: 1001 | Cost: 0.066\n",
      "Minibatch: 1501 | Cost: 0.006\n",
      "Epoch: 003 | AvgCost: 0.074 | Train/Valid ACC: 0.979/0.978\n",
      "Test ACC: 0.980\n"
     ]
    }
   ],
   "source": [
    "with tf.Session(graph=g) as sess:\n",
    "    sess.run(tf.global_variables_initializer())\n",
    "    \n",
    "    np.random.seed(random_seed)\n",
    "    \n",
    "    for epoch in range(1, epochs+1):\n",
    "        avg_cost = 0.\n",
    "        total_batch = data.train.num_examples // batch_size\n",
    "        \n",
    "        for i in range(total_batch):\n",
    "            batch_x, batch_y = data.train.next_batch(batch_size=batch_size)\n",
    "            batch_x = batch_x[:, :, None]\n",
    "            \n",
    "            _, c = sess.run([train_op, cost], feed_dict={X: batch_x, Y: batch_y, keep_proba:keep_rate})\n",
    "            \n",
    "            avg_cost += c\n",
    "            \n",
    "            if (i+1) % print_interval == 0:\n",
    "                print(\"Minibatch: %03d | Cost: %.3f\" % (i + 1, c))\n",
    "        \n",
    "        train_acc = sess.run(accuracy, feed_dict={X: data.train.images[:, :, None],\n",
    "                                        Y: data.train.labels,\n",
    "                                        keep_proba: 1.0})\n",
    "        valid_acc = sess.run(accuracy, feed_dict={X: data.validation.images[:, :, None],\n",
    "                                        Y: data.validation.labels,\n",
    "                                        keep_proba: 1.0})\n",
    "        \n",
    "        print(\"Epoch: %03d | AvgCost: %.3f\" % (epoch, avg_cost / (i + 1)), end=\"\")\n",
    "        print(\" | Train/Valid ACC: %.3f/%.3f\" % (train_acc, valid_acc))\n",
    "    \n",
    "    test_acc = sess.run(accuracy, feed_dict={X: data.test.images[:, :, None],\n",
    "                                        Y: data.test.labels,\n",
    "                                        keep_proba: 1.0})\n",
    "    print('Test ACC: %.3f' % test_acc)"
   ]
  }
 ],
 "metadata": {
  "kernelspec": {
   "display_name": "Python 3",
   "language": "python",
   "name": "python3"
  },
  "language_info": {
   "codemirror_mode": {
    "name": "ipython",
    "version": 3
   },
   "file_extension": ".py",
   "mimetype": "text/x-python",
   "name": "python",
   "nbconvert_exporter": "python",
   "pygments_lexer": "ipython3",
   "version": "3.6.10"
  }
 },
 "nbformat": 4,
 "nbformat_minor": 4
}
