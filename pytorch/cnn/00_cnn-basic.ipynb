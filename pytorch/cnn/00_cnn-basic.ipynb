{
 "cells": [
  {
   "cell_type": "code",
   "execution_count": 1,
   "metadata": {},
   "outputs": [],
   "source": [
    "import time\n",
    "import numpy as np\n",
    "import torch\n",
    "import torch.nn.functional as F\n",
    "from torchvision import datasets\n",
    "from torchvision import transforms\n",
    "from torch.utils.data import DataLoader\n",
    "\n",
    "if torch.cuda.is_available():\n",
    "    torch.backends.cudnn.deterministic = True"
   ]
  },
  {
   "cell_type": "markdown",
   "metadata": {},
   "source": [
    "### parameters"
   ]
  },
  {
   "cell_type": "code",
   "execution_count": 2,
   "metadata": {},
   "outputs": [],
   "source": [
    "random_seed = 123\n",
    "learning_rate = 0.05\n",
    "epochs = 10\n",
    "batch_size = 128\n",
    "\n",
    "num_classes = 10"
   ]
  },
  {
   "cell_type": "markdown",
   "metadata": {},
   "source": [
    "### data"
   ]
  },
  {
   "cell_type": "code",
   "execution_count": 3,
   "metadata": {},
   "outputs": [
    {
     "name": "stdout",
     "output_type": "stream",
     "text": [
      "image batch shape:  torch.Size([128, 1, 28, 28])\n",
      "image label shape:  torch.Size([128])\n"
     ]
    }
   ],
   "source": [
    "device = torch.device(\"cuda\" if torch.cuda.is_available() else \"cpu\")\n",
    "print(device)\n",
    "\n",
    "train_dataset = datasets.MNIST(\"D:/work/data/Python/mnist/\",\n",
    "                               train=True,\n",
    "                               transform=transforms.Compose([\n",
    "                                   transforms.ToTensor()\n",
    "                               ]),\n",
    "                               download=True)\n",
    "test_dataset = datasets.MNIST(\"D:/work/data/Python/mnist/\",\n",
    "                              train=False,\n",
    "                              transform=transforms.Compose([\n",
    "                                  transforms.ToTensor()\n",
    "                              ]),\n",
    "                              download=False)\n",
    "\n",
    "train_loader = DataLoader(train_dataset, batch_size, shuffle=True)\n",
    "test_loader = DataLoader(test_dataset, batch_size, shuffle=True)\n",
    "\n",
    "for images, labels in train_loader:\n",
    "    print(\"image batch shape: \", images.shape)\n",
    "    print(\"image label shape: \", labels.shape)\n",
    "    break"
   ]
  },
  {
   "cell_type": "markdown",
   "metadata": {},
   "source": [
    "### model"
   ]
  },
  {
   "cell_type": "code",
   "execution_count": 4,
   "metadata": {},
   "outputs": [],
   "source": [
    "class ConvNet(torch.nn.Module):\n",
    "    def __init__(self, num_classes):\n",
    "        super(ConvNet, self).__init__()\n",
    "\n",
    "        # 28*28*1 -> 28*28*8\n",
    "        self.conv1 = torch.nn.Conv2d(in_channels=1,\n",
    "                                     out_channels=8,\n",
    "                                     kernel_size=(3,3),\n",
    "                                     stride=(1,1),\n",
    "                                     padding=1) # (28 - 3 + 2*padding) / 1 + 1 = 28, padding = 1\n",
    "        # 28*28*8 -> 14*14*8\n",
    "        self.pool1 = torch.nn.MaxPool2d(kernel_size=(2,2),\n",
    "                                       stride=(2,2),\n",
    "                                       padding=0)\n",
    "        # 14*14*8 -> 14*14*16\n",
    "        self.conv2 = torch.nn.Conv2d(in_channels=8,\n",
    "                                     out_channels=16,\n",
    "                                     kernel_size=(3,3),\n",
    "                                     stride=(1,1),\n",
    "                                     padding=1)\n",
    "        self.pool2 = torch.nn.MaxPool2d(kernel_size=(2,2),\n",
    "                                        stride=(2,2),\n",
    "                                        padding=0)\n",
    "        self.linear1 = torch.nn.Linear(7*7*16, num_classes)\n",
    "\n",
    "        for m in self.modules():\n",
    "            if isinstance(m, torch.nn.Conv2d) or isinstance(m, torch.nn.Linear):\n",
    "                m.weight.data.normal_(0.0, 0.01)\n",
    "                m.bias.data.zero_()\n",
    "\n",
    "                if m.bias is not None:\n",
    "                    m.bias.detach().zero_()\n",
    "    \n",
    "    def forward(self, x):\n",
    "        x = self.conv1(x)\n",
    "        x = F.relu(x)\n",
    "        x = self.pool1(x)\n",
    "        x = self.conv2(x)\n",
    "        x = F.relu(x)\n",
    "        x = self.pool2(x)\n",
    "        \n",
    "        logits = self.linear1(x.view(-1, 7*7*16))\n",
    "        probas = F.softmax(logits, dim=1)\n",
    "        \n",
    "        return logits, probas\n",
    "\n",
    "torch.manual_seed(random_seed)\n",
    "model = ConvNet(num_classes=num_classes)\n",
    "model = model.to(device)\n",
    "\n",
    "optimizer = torch.optim.SGD(model.parameters(), lr=learning_rate)"
   ]
  },
  {
   "cell_type": "markdown",
   "metadata": {},
   "source": [
    "### train"
   ]
  },
  {
   "cell_type": "code",
   "execution_count": 8,
   "metadata": {},
   "outputs": [
    {
     "name": "stdout",
     "output_type": "stream",
     "text": [
      "Epoch: 010/010  training accuracy: 98.76%\n",
      "Time elapsed: 1.33 min\n"
     ]
    }
   ],
   "source": [
    "def accuracy(model, dataloader):\n",
    "    correct, num_samples = 0, 0\n",
    "    for features, targets in dataloader:\n",
    "        features = features.to(device)\n",
    "        targets = targets.to(device)\n",
    "        \n",
    "        logits, probas = model(features)\n",
    "        _, predict_labels = torch.max(probas, 1)\n",
    "        num_samples += targets.size(0)\n",
    "        correct += (predict_labels == targets).sum()\n",
    "        \n",
    "    return correct.float() / num_samples * 100\n",
    "\n",
    "start_time = time.time()\n",
    "for epoch in range(epochs):\n",
    "    model = model.train()\n",
    "    for batch_idx, (features, targets) in enumerate(train_loader):\n",
    "        features = features.to(device)\n",
    "        targets = targets.to(device)\n",
    "        \n",
    "        # forward\n",
    "        optimizer.zero_grad()\n",
    "        logits, probas = model.forward(features)\n",
    "        cost = F.cross_entropy(logits, targets)\n",
    "        \n",
    "        # backward\n",
    "        cost.backward()\n",
    "        \n",
    "        # update\n",
    "        optimizer.step()\n",
    "        \n",
    "        if (batch_idx + 1) % 50 == 0:\n",
    "            print('Epoch: %03d/%03d | Batch %03d/%03d | Cost: %.4f' \n",
    "                   %(epoch+1, num_epochs, batch_idx, len(train_loader), cost))\n",
    "\n",
    "model.eval()\n",
    "print(\"Epoch: %03d/%03d  training accuracy: %.2f%%\" % (\n",
    "    epoch+1, epochs, accuracy(model, train_loader)))\n",
    "\n",
    "print(\"Time elapsed: %.2f min\" % ((time.time() - start_time) / 60))"
   ]
  },
  {
   "cell_type": "markdown",
   "metadata": {},
   "source": [
    "### evaluate"
   ]
  },
  {
   "cell_type": "code",
   "execution_count": 9,
   "metadata": {},
   "outputs": [
    {
     "name": "stdout",
     "output_type": "stream",
     "text": [
      "Test accuracy: 98.31%\n"
     ]
    }
   ],
   "source": [
    "with torch.no_grad():\n",
    "    print(\"Test accuracy: %.2f%%\" % (accuracy(model, test_loader)))"
   ]
  }
 ],
 "metadata": {
  "kernelspec": {
   "display_name": "Python 3",
   "language": "python",
   "name": "python3"
  },
  "language_info": {
   "codemirror_mode": {
    "name": "ipython",
    "version": 3
   },
   "file_extension": ".py",
   "mimetype": "text/x-python",
   "name": "python",
   "nbconvert_exporter": "python",
   "pygments_lexer": "ipython3",
   "version": "3.6.10"
  }
 },
 "nbformat": 4,
 "nbformat_minor": 4
}
