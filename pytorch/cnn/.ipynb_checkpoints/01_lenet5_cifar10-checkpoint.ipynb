{
 "cells": [
  {
   "cell_type": "code",
   "execution_count": 1,
   "metadata": {},
   "outputs": [],
   "source": [
    "import os\n",
    "import time\n",
    "import numpy as np\n",
    "import pandas as pd\n",
    "\n",
    "import torch\n",
    "import torch.nn as nn\n",
    "import torch.nn.functional as F\n",
    "from torchvision import datasets\n",
    "from torchvision import transforms\n",
    "from torch.utils.data import DataLoader\n",
    "\n",
    "import matplotlib.pyplot as plt\n",
    "from PIL import Image\n",
    "\n",
    "from dataset_cifar10 import CIFAR10\n",
    "\n",
    "if torch.cuda.is_available():\n",
    "    torch.backends.cudnn.deterministic = True"
   ]
  },
  {
   "cell_type": "markdown",
   "metadata": {},
   "source": [
    "### parameters"
   ]
  },
  {
   "cell_type": "code",
   "execution_count": 2,
   "metadata": {},
   "outputs": [],
   "source": [
    "random_seed = 123\n",
    "learning_rate = 0.001\n",
    "batch_size = 128\n",
    "epochs = 10\n",
    "\n",
    "num_features = 32*32\n",
    "num_classes = 10\n",
    "\n",
    "grayscale = False"
   ]
  },
  {
   "cell_type": "markdown",
   "metadata": {},
   "source": [
    "### data\n",
    "\n",
    "因为官方CIFAR10 dataset需要在线下载，网速很慢。故将官方的CIFAR10 dataset经过稍微修改，以适应自己下载的离线cifar10数据集"
   ]
  },
  {
   "cell_type": "code",
   "execution_count": 3,
   "metadata": {},
   "outputs": [
    {
     "name": "stdout",
     "output_type": "stream",
     "text": [
      "images shape:  torch.Size([128, 3, 32, 32])\n",
      "labels shape:  torch.Size([128])\n"
     ]
    }
   ],
   "source": [
    "transform = transforms.Compose([\n",
    "    transforms.Resize((32, 32)),\n",
    "    transforms.ToTensor()\n",
    "])\n",
    "train_dataset = CIFAR10(root=\"D:/work/data/Python/cifar10/\",\n",
    "                        train=True,\n",
    "                        transform=transform,\n",
    "                        download=False)\n",
    "test_dataset = CIFAR10(root=\"D:/work/data/Python/cifar10/\",\n",
    "                        train=False,\n",
    "                        transform=transform,\n",
    "                        download=False)\n",
    "\n",
    "train_loader = DataLoader(dataset=train_dataset, batch_size=batch_size, shuffle=True)\n",
    "test_loader = DataLoader(dataset=test_dataset, batch_size=batch_size, shuffle=False)\n",
    "\n",
    "for images, labels in train_loader:\n",
    "    print(\"images shape: \", images.size())\n",
    "    print(\"labels shape: \", labels.size())\n",
    "    break"
   ]
  },
  {
   "cell_type": "code",
   "execution_count": 4,
   "metadata": {},
   "outputs": [
    {
     "name": "stdout",
     "output_type": "stream",
     "text": [
      "cuda\n",
      "Epoch: 1 | Batch index: 0 | Batch size: 128\n",
      "Epoch: 2 | Batch index: 0 | Batch size: 128\n"
     ]
    }
   ],
   "source": [
    "device = torch.device(\"cuda\" if torch.cuda.is_available() else \"cpu\")\n",
    "print(device)\n",
    "\n",
    "torch.manual_seed(random_seed)\n",
    "for epoch in range(2):\n",
    "    for batch_idx, (x, y) in enumerate(train_loader):\n",
    "        print('Epoch:', epoch+1, end='')\n",
    "        print(' | Batch index:', batch_idx, end='')\n",
    "        print(' | Batch size:', y.size()[0])\n",
    "        \n",
    "        x = x.to(device)\n",
    "        y = y.to(device)\n",
    "        break"
   ]
  },
  {
   "cell_type": "markdown",
   "metadata": {},
   "source": [
    "### model"
   ]
  },
  {
   "cell_type": "code",
   "execution_count": 5,
   "metadata": {},
   "outputs": [],
   "source": [
    "class LeNet5(nn.Module):\n",
    "    def __init__(self, num_classes, grayscale=False):\n",
    "        super(LeNet5, self).__init__()\n",
    "        \n",
    "        self.grayscale = grayscale\n",
    "        self.num_classes = num_classes\n",
    "        \n",
    "        if self.grayscale:\n",
    "            in_channels = 1\n",
    "        else:\n",
    "            in_channels = 3\n",
    "        \n",
    "        self.features = nn.Sequential(\n",
    "            nn.Conv2d(in_channels, 6, kernel_size=(5, 5), stride=(1, 1)),\n",
    "            nn.Tanh(),\n",
    "            nn.MaxPool2d(kernel_size=2),\n",
    "            nn.Conv2d(6, 16, kernel_size=(5, 5)),\n",
    "            nn.Tanh(),\n",
    "            nn.MaxPool2d(kernel_size=2)\n",
    "        )\n",
    "        \n",
    "        self.classifier = nn.Sequential(\n",
    "            nn.Linear(16*5*5, 120),\n",
    "            nn.Tanh(),\n",
    "            nn.Linear(120, 84),\n",
    "            nn.Tanh(),\n",
    "            nn.Linear(84, num_classes)\n",
    "        )\n",
    "        \n",
    "    def forward(self, x):\n",
    "        x = self.features(x)\n",
    "        x = torch.flatten(x, 1)\n",
    "        logits = self.classifier(x)\n",
    "        probas = F.softmax(logits, dim=1)\n",
    "        \n",
    "        return logits, probas"
   ]
  },
  {
   "cell_type": "code",
   "execution_count": 6,
   "metadata": {},
   "outputs": [],
   "source": [
    "torch.manual_seed(random_seed)\n",
    "\n",
    "model = LeNet5(num_classes, grayscale)\n",
    "model = model.to(device)\n",
    "optimizer = torch.optim.Adam(model.parameters(), lr=learning_rate)"
   ]
  },
  {
   "cell_type": "markdown",
   "metadata": {},
   "source": [
    "### train"
   ]
  },
  {
   "cell_type": "code",
   "execution_count": 7,
   "metadata": {},
   "outputs": [
    {
     "name": "stdout",
     "output_type": "stream",
     "text": [
      "Epoch: 001/010 | Batch 0049/0391 | Cost: 2.1016\n",
      "Epoch: 001/010 | Batch 0099/0391 | Cost: 1.9296\n",
      "Epoch: 001/010 | Batch 0149/0391 | Cost: 1.7032\n",
      "Epoch: 001/010 | Batch 0199/0391 | Cost: 1.6132\n",
      "Epoch: 001/010 | Batch 0249/0391 | Cost: 1.5559\n",
      "Epoch: 001/010 | Batch 0299/0391 | Cost: 1.7342\n",
      "Epoch: 001/010 | Batch 0349/0391 | Cost: 1.5572\n",
      "Epoch: 002/010 | Batch 0049/0391 | Cost: 1.4401\n",
      "Epoch: 002/010 | Batch 0099/0391 | Cost: 1.5761\n",
      "Epoch: 002/010 | Batch 0149/0391 | Cost: 1.5709\n",
      "Epoch: 002/010 | Batch 0199/0391 | Cost: 1.5023\n",
      "Epoch: 002/010 | Batch 0249/0391 | Cost: 1.7170\n",
      "Epoch: 002/010 | Batch 0299/0391 | Cost: 1.2766\n",
      "Epoch: 002/010 | Batch 0349/0391 | Cost: 1.4613\n",
      "Epoch: 003/010 | Batch 0049/0391 | Cost: 1.1575\n",
      "Epoch: 003/010 | Batch 0099/0391 | Cost: 1.2323\n",
      "Epoch: 003/010 | Batch 0149/0391 | Cost: 1.3162\n",
      "Epoch: 003/010 | Batch 0199/0391 | Cost: 1.3026\n",
      "Epoch: 003/010 | Batch 0249/0391 | Cost: 1.1919\n",
      "Epoch: 003/010 | Batch 0299/0391 | Cost: 1.3568\n",
      "Epoch: 003/010 | Batch 0349/0391 | Cost: 1.4983\n",
      "Epoch: 004/010 | Batch 0049/0391 | Cost: 1.2858\n",
      "Epoch: 004/010 | Batch 0099/0391 | Cost: 1.2096\n",
      "Epoch: 004/010 | Batch 0149/0391 | Cost: 1.2651\n",
      "Epoch: 004/010 | Batch 0199/0391 | Cost: 1.2160\n",
      "Epoch: 004/010 | Batch 0249/0391 | Cost: 1.2358\n",
      "Epoch: 004/010 | Batch 0299/0391 | Cost: 1.1876\n",
      "Epoch: 004/010 | Batch 0349/0391 | Cost: 1.4555\n",
      "Epoch: 005/010 | Batch 0049/0391 | Cost: 1.1913\n",
      "Epoch: 005/010 | Batch 0099/0391 | Cost: 1.0726\n",
      "Epoch: 005/010 | Batch 0149/0391 | Cost: 1.1847\n",
      "Epoch: 005/010 | Batch 0199/0391 | Cost: 1.3016\n",
      "Epoch: 005/010 | Batch 0249/0391 | Cost: 1.1569\n",
      "Epoch: 005/010 | Batch 0299/0391 | Cost: 1.2634\n",
      "Epoch: 005/010 | Batch 0349/0391 | Cost: 1.3109\n",
      "Epoch: 006/010 | Batch 0049/0391 | Cost: 1.2289\n",
      "Epoch: 006/010 | Batch 0099/0391 | Cost: 1.0487\n",
      "Epoch: 006/010 | Batch 0149/0391 | Cost: 1.0017\n",
      "Epoch: 006/010 | Batch 0199/0391 | Cost: 0.8487\n",
      "Epoch: 006/010 | Batch 0249/0391 | Cost: 0.9974\n",
      "Epoch: 006/010 | Batch 0299/0391 | Cost: 1.1407\n",
      "Epoch: 006/010 | Batch 0349/0391 | Cost: 1.1042\n",
      "Epoch: 007/010 | Batch 0049/0391 | Cost: 1.0248\n",
      "Epoch: 007/010 | Batch 0099/0391 | Cost: 1.0334\n",
      "Epoch: 007/010 | Batch 0149/0391 | Cost: 1.1231\n",
      "Epoch: 007/010 | Batch 0199/0391 | Cost: 1.0091\n",
      "Epoch: 007/010 | Batch 0249/0391 | Cost: 1.2770\n",
      "Epoch: 007/010 | Batch 0299/0391 | Cost: 1.0421\n",
      "Epoch: 007/010 | Batch 0349/0391 | Cost: 1.0254\n",
      "Epoch: 008/010 | Batch 0049/0391 | Cost: 1.0953\n",
      "Epoch: 008/010 | Batch 0099/0391 | Cost: 1.0167\n",
      "Epoch: 008/010 | Batch 0149/0391 | Cost: 1.1154\n",
      "Epoch: 008/010 | Batch 0199/0391 | Cost: 1.0905\n",
      "Epoch: 008/010 | Batch 0249/0391 | Cost: 1.1239\n",
      "Epoch: 008/010 | Batch 0299/0391 | Cost: 0.9703\n",
      "Epoch: 008/010 | Batch 0349/0391 | Cost: 1.0137\n",
      "Epoch: 009/010 | Batch 0049/0391 | Cost: 0.9282\n",
      "Epoch: 009/010 | Batch 0099/0391 | Cost: 0.9089\n",
      "Epoch: 009/010 | Batch 0149/0391 | Cost: 1.2612\n",
      "Epoch: 009/010 | Batch 0199/0391 | Cost: 1.1040\n",
      "Epoch: 009/010 | Batch 0249/0391 | Cost: 1.0476\n",
      "Epoch: 009/010 | Batch 0299/0391 | Cost: 1.0145\n",
      "Epoch: 009/010 | Batch 0349/0391 | Cost: 1.1665\n",
      "Epoch: 010/010 | Batch 0049/0391 | Cost: 0.9318\n",
      "Epoch: 010/010 | Batch 0099/0391 | Cost: 1.0067\n",
      "Epoch: 010/010 | Batch 0149/0391 | Cost: 0.8643\n",
      "Epoch: 010/010 | Batch 0199/0391 | Cost: 0.8038\n",
      "Epoch: 010/010 | Batch 0249/0391 | Cost: 1.0535\n",
      "Epoch: 010/010 | Batch 0299/0391 | Cost: 1.1269\n",
      "Epoch: 010/010 | Batch 0349/0391 | Cost: 0.9612\n",
      "Epoch: 010/010 | Train: 67.548%\n"
     ]
    }
   ],
   "source": [
    "def accuracy(model, dataloader):\n",
    "    correct, num_samples = 0, 0\n",
    "    for i, (features, targets) in enumerate(dataloader):\n",
    "        features = features.to(device)\n",
    "        targets = targets.to(device)\n",
    "        \n",
    "        logits, probas = model(features)\n",
    "        _, predict_labels = torch.max(probas, 1)\n",
    "        \n",
    "        num_samples += targets.size(0)\n",
    "        correct += (predict_labels == targets).sum()\n",
    "    \n",
    "    return correct.float() / num_samples * 100\n",
    "\n",
    "start_time = time.time()\n",
    "for epoch in range(epochs):\n",
    "    model.train()\n",
    "    \n",
    "    for batch_idx, (features, targets) in enumerate(train_loader):\n",
    "        features = features.to(device)\n",
    "        targets = targets.to(device)\n",
    "        \n",
    "        # forward\n",
    "        optimizer.zero_grad()\n",
    "        logits, probas = model(features)\n",
    "        cost = F.cross_entropy(logits, targets)\n",
    "        \n",
    "        # backward\n",
    "        cost.backward()\n",
    "        \n",
    "        # update\n",
    "        optimizer.step()\n",
    "        \n",
    "        if (batch_idx + 1) % 50 == 0:\n",
    "            print ('Epoch: %03d/%03d | Batch %04d/%04d | Cost: %.4f' \n",
    "                   %(epoch+1, epochs, batch_idx, \n",
    "                     len(train_loader), cost))\n",
    "model.eval()\n",
    "with torch.no_grad(): # save memory during inference\n",
    "    print('Epoch: %03d/%03d | Train: %.3f%%' % (\n",
    "          epoch+1, epochs, \n",
    "          accuracy(model, train_loader)))"
   ]
  },
  {
   "cell_type": "markdown",
   "metadata": {},
   "source": [
    "### evaluate"
   ]
  },
  {
   "cell_type": "code",
   "execution_count": 8,
   "metadata": {},
   "outputs": [
    {
     "name": "stdout",
     "output_type": "stream",
     "text": [
      "Test accuracy: 61.86%\n"
     ]
    }
   ],
   "source": [
    "with torch.set_grad_enabled(False): # save memory during inference\n",
    "    print('Test accuracy: %.2f%%' % (accuracy(model, test_loader)))"
   ]
  },
  {
   "cell_type": "code",
   "execution_count": 9,
   "metadata": {},
   "outputs": [
    {
     "name": "stdout",
     "output_type": "stream",
     "text": [
      "torch.Size([128, 3, 32, 32])\n",
      "torch.Size([128])\n",
      "torch.Size([32, 32, 3])\n"
     ]
    },
    {
     "data": {
      "text/plain": [
       "<matplotlib.image.AxesImage at 0x14154adfd68>"
      ]
     },
     "execution_count": 9,
     "metadata": {},
     "output_type": "execute_result"
    },
    {
     "data": {
      "image/png": "[encoded data removed]",
      "text/plain": [
       "<Figure size 432x288 with 1 Axes>"
      ]
     },
     "metadata": {
      "needs_background": "light"
     },
     "output_type": "display_data"
    }
   ],
   "source": [
    "for batch_idx, (features, targets) in enumerate(test_loader):\n",
    "    features = features\n",
    "    targets = targets\n",
    "    break\n",
    "\n",
    "print(features.size())\n",
    "print(targets.size())\n",
    "# CHW -> HWC\n",
    "hwc_img = np.transpose(features[1], axes=(1, 2, 0))\n",
    "print(hwc_img.size())\n",
    "plt.imshow(hwc_img)"
   ]
  }
 ],
 "metadata": {
  "kernelspec": {
   "display_name": "Python 3",
   "language": "python",
   "name": "python3"
  },
  "language_info": {
   "codemirror_mode": {
    "name": "ipython",
    "version": 3
   },
   "file_extension": ".py",
   "mimetype": "text/x-python",
   "name": "python",
   "nbconvert_exporter": "python",
   "pygments_lexer": "ipython3",
   "version": "3.6.10"
  }
 },
 "nbformat": 4,
 "nbformat_minor": 4
}
