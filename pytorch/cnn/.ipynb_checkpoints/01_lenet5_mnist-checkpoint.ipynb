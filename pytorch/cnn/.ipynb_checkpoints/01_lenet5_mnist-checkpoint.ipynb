{
 "cells": [
  {
   "cell_type": "code",
   "execution_count": 1,
   "metadata": {},
   "outputs": [
    {
     "name": "stderr",
     "output_type": "stream",
     "text": [
      "D:\\AdvanceIDE\\Anaconda3\\envs\\mlenv\\lib\\importlib\\_bootstrap.py:219: RuntimeWarning: numpy.ufunc size changed, may indicate binary incompatibility. Expected 192 from C header, got 216 from PyObject\n",
      "  return f(*args, **kwds)\n"
     ]
    }
   ],
   "source": [
    "import os\n",
    "import time\n",
    "import numpy as np\n",
    "import pandas as pd\n",
    "\n",
    "import torch\n",
    "import torch.nn as nn\n",
    "import torch.nn.functional as F\n",
    "\n",
    "from torchvision import datasets\n",
    "from torchvision import transforms\n",
    "from torch.utils.data import DataLoader\n",
    "\n",
    "import matplotlib.pyplot as plt\n",
    "from PIL import Image\n",
    "\n",
    "if torch.cuda.is_available():\n",
    "    torch.backends.cudnn.deterministic = True"
   ]
  },
  {
   "cell_type": "markdown",
   "metadata": {},
   "source": [
    "### parameters"
   ]
  },
  {
   "cell_type": "code",
   "execution_count": 2,
   "metadata": {},
   "outputs": [],
   "source": [
    "random_seed = 123\n",
    "learning_rate = 0.001\n",
    "batch_size = 128\n",
    "epochs = 10\n",
    "\n",
    "num_classes = 10\n",
    "num_features = 32*32\n",
    "\n",
    "grayscale = True"
   ]
  },
  {
   "cell_type": "markdown",
   "metadata": {},
   "source": [
    "### data"
   ]
  },
  {
   "cell_type": "code",
   "execution_count": 5,
   "metadata": {},
   "outputs": [
    {
     "name": "stdout",
     "output_type": "stream",
     "text": [
      "images shape:  torch.Size([128, 1, 32, 32])\n",
      "labels shape:  torch.Size([128])\n"
     ]
    }
   ],
   "source": [
    "resize_transform = transforms.Compose([transforms.Resize((32, 32)),\n",
    "                                       transforms.ToTensor()])\n",
    "\n",
    "train_dataset = datasets.MNIST(\"D:/work/data/Python/mnist/\",\n",
    "                               train=True,\n",
    "                               transform=resize_transform,\n",
    "                               download=True)\n",
    "test_dataset = datasets.MNIST(\"D:/work/data/Python/mnist/\",\n",
    "                              train=False,\n",
    "                              transform=resize_transform,\n",
    "                              download=False)\n",
    "train_loader = DataLoader(dataset=train_dataset, batch_size=batch_size, shuffle=True)\n",
    "test_loader = DataLoader(dataset=test_dataset, batch_size=batch_size, shuffle=False)\n",
    "\n",
    "for images, labels in train_loader:\n",
    "    print(\"images shape: \", images.size())\n",
    "    print(\"labels shape: \", labels.size())\n",
    "    break"
   ]
  },
  {
   "cell_type": "code",
   "execution_count": 6,
   "metadata": {},
   "outputs": [
    {
     "name": "stdout",
     "output_type": "stream",
     "text": [
      "cuda\n",
      "Epoch: 1 | Batch index: 0 | Batch size: 128\n",
      "Epoch: 2 | Batch index: 0 | Batch size: 128\n"
     ]
    }
   ],
   "source": [
    "device = torch.device(\"cuda\" if torch.cuda.is_available() else \"cpu\")\n",
    "print(device)\n",
    "\n",
    "torch.manual_seed(random_seed)\n",
    "for epoch in range(2):\n",
    "    for batch_idx, (x, y) in enumerate(train_loader):\n",
    "        print('Epoch:', epoch+1, end='')\n",
    "        print(' | Batch index:', batch_idx, end='')\n",
    "        print(' | Batch size:', y.size()[0])\n",
    "        \n",
    "        x = x.to(device)\n",
    "        y = y.to(device)\n",
    "        break"
   ]
  },
  {
   "cell_type": "markdown",
   "metadata": {},
   "source": [
    "### model"
   ]
  },
  {
   "cell_type": "code",
   "execution_count": 17,
   "metadata": {},
   "outputs": [],
   "source": [
    "class LeNet5(nn.Module):\n",
    "    def __init__(self, num_classes, grayscale=False):\n",
    "        super(LeNet5, self).__init__()\n",
    "        \n",
    "        self.grayscale = grayscale\n",
    "        self.num_classes = num_classes\n",
    "        \n",
    "        if self.grayscale:\n",
    "            in_channels = 1\n",
    "        else:\n",
    "            in_channels = 3\n",
    "        \n",
    "        self.features = nn.Sequential(\n",
    "            nn.Conv2d(in_channels, 6, kernel_size=(5, 5), stride=(1, 1)),\n",
    "            nn.Tanh(),\n",
    "            nn.MaxPool2d(kernel_size=2),\n",
    "            nn.Conv2d(6, 16, kernel_size=(5, 5)),\n",
    "            nn.Tanh(),\n",
    "            nn.MaxPool2d(kernel_size=2)\n",
    "        )\n",
    "        \n",
    "        self.classifier = nn.Sequential(\n",
    "            nn.Linear(16*5*5, 120),\n",
    "            nn.Tanh(),\n",
    "            nn.Linear(120, 84),\n",
    "            nn.Tanh(),\n",
    "            nn.Linear(84, num_classes)\n",
    "        )\n",
    "        \n",
    "    def forward(self, x):\n",
    "        x = self.features(x)\n",
    "        x = torch.flatten(x, 1)\n",
    "        logits = self.classifier(x)\n",
    "        probas = F.softmax(logits, dim=1)\n",
    "        \n",
    "        return logits, probas"
   ]
  },
  {
   "cell_type": "code",
   "execution_count": 18,
   "metadata": {},
   "outputs": [],
   "source": [
    "torch.manual_seed(random_seed)\n",
    "\n",
    "model = LeNet5(num_classes, grayscale)\n",
    "model = model.to(device)\n",
    "optimizer = torch.optim.Adam(model.parameters(), lr=learning_rate)"
   ]
  },
  {
   "cell_type": "markdown",
   "metadata": {},
   "source": [
    "### train"
   ]
  },
  {
   "cell_type": "markdown",
   "metadata": {},
   "source": [
    "'''\n",
    "a = torch.randn(3, 4)\n",
    "torch.max(a, dim=1, keepdim=True)\n",
    "'''"
   ]
  },
  {
   "cell_type": "code",
   "execution_count": 19,
   "metadata": {},
   "outputs": [
    {
     "name": "stdout",
     "output_type": "stream",
     "text": [
      "Epoch: 001/010 | Batch 0049/0469 | Cost: 0.6444\n",
      "Epoch: 001/010 | Batch 0099/0469 | Cost: 0.2702\n",
      "Epoch: 001/010 | Batch 0149/0469 | Cost: 0.2010\n",
      "Epoch: 001/010 | Batch 0199/0469 | Cost: 0.2603\n",
      "Epoch: 001/010 | Batch 0249/0469 | Cost: 0.1589\n",
      "Epoch: 001/010 | Batch 0299/0469 | Cost: 0.1135\n",
      "Epoch: 001/010 | Batch 0349/0469 | Cost: 0.0882\n",
      "Epoch: 001/010 | Batch 0399/0469 | Cost: 0.1276\n",
      "Epoch: 001/010 | Batch 0449/0469 | Cost: 0.0613\n",
      "Epoch: 002/010 | Batch 0049/0469 | Cost: 0.1042\n",
      "Epoch: 002/010 | Batch 0099/0469 | Cost: 0.0210\n",
      "Epoch: 002/010 | Batch 0149/0469 | Cost: 0.0292\n",
      "Epoch: 002/010 | Batch 0199/0469 | Cost: 0.1092\n",
      "Epoch: 002/010 | Batch 0249/0469 | Cost: 0.0227\n",
      "Epoch: 002/010 | Batch 0299/0469 | Cost: 0.0551\n",
      "Epoch: 002/010 | Batch 0349/0469 | Cost: 0.0522\n",
      "Epoch: 002/010 | Batch 0399/0469 | Cost: 0.0267\n",
      "Epoch: 002/010 | Batch 0449/0469 | Cost: 0.1903\n",
      "Epoch: 003/010 | Batch 0049/0469 | Cost: 0.0329\n",
      "Epoch: 003/010 | Batch 0099/0469 | Cost: 0.0459\n",
      "Epoch: 003/010 | Batch 0149/0469 | Cost: 0.0452\n",
      "Epoch: 003/010 | Batch 0199/0469 | Cost: 0.0101\n",
      "Epoch: 003/010 | Batch 0249/0469 | Cost: 0.0685\n",
      "Epoch: 003/010 | Batch 0299/0469 | Cost: 0.0508\n",
      "Epoch: 003/010 | Batch 0349/0469 | Cost: 0.0653\n",
      "Epoch: 003/010 | Batch 0399/0469 | Cost: 0.0194\n",
      "Epoch: 003/010 | Batch 0449/0469 | Cost: 0.0116\n",
      "Epoch: 004/010 | Batch 0049/0469 | Cost: 0.0075\n",
      "Epoch: 004/010 | Batch 0099/0469 | Cost: 0.0091\n",
      "Epoch: 004/010 | Batch 0149/0469 | Cost: 0.0308\n",
      "Epoch: 004/010 | Batch 0199/0469 | Cost: 0.0694\n",
      "Epoch: 004/010 | Batch 0249/0469 | Cost: 0.0577\n",
      "Epoch: 004/010 | Batch 0299/0469 | Cost: 0.0311\n",
      "Epoch: 004/010 | Batch 0349/0469 | Cost: 0.0434\n",
      "Epoch: 004/010 | Batch 0399/0469 | Cost: 0.0359\n",
      "Epoch: 004/010 | Batch 0449/0469 | Cost: 0.0610\n",
      "Epoch: 005/010 | Batch 0049/0469 | Cost: 0.0264\n",
      "Epoch: 005/010 | Batch 0099/0469 | Cost: 0.0266\n",
      "Epoch: 005/010 | Batch 0149/0469 | Cost: 0.0068\n",
      "Epoch: 005/010 | Batch 0199/0469 | Cost: 0.0333\n",
      "Epoch: 005/010 | Batch 0249/0469 | Cost: 0.0369\n",
      "Epoch: 005/010 | Batch 0299/0469 | Cost: 0.0107\n",
      "Epoch: 005/010 | Batch 0349/0469 | Cost: 0.0956\n",
      "Epoch: 005/010 | Batch 0399/0469 | Cost: 0.0271\n",
      "Epoch: 005/010 | Batch 0449/0469 | Cost: 0.0091\n",
      "Epoch: 006/010 | Batch 0049/0469 | Cost: 0.0255\n",
      "Epoch: 006/010 | Batch 0099/0469 | Cost: 0.0228\n",
      "Epoch: 006/010 | Batch 0149/0469 | Cost: 0.0181\n",
      "Epoch: 006/010 | Batch 0199/0469 | Cost: 0.0259\n",
      "Epoch: 006/010 | Batch 0249/0469 | Cost: 0.0199\n",
      "Epoch: 006/010 | Batch 0299/0469 | Cost: 0.0263\n",
      "Epoch: 006/010 | Batch 0349/0469 | Cost: 0.0146\n",
      "Epoch: 006/010 | Batch 0399/0469 | Cost: 0.0126\n",
      "Epoch: 006/010 | Batch 0449/0469 | Cost: 0.0036\n",
      "Epoch: 007/010 | Batch 0049/0469 | Cost: 0.0368\n",
      "Epoch: 007/010 | Batch 0099/0469 | Cost: 0.0230\n",
      "Epoch: 007/010 | Batch 0149/0469 | Cost: 0.0091\n",
      "Epoch: 007/010 | Batch 0199/0469 | Cost: 0.0011\n",
      "Epoch: 007/010 | Batch 0249/0469 | Cost: 0.0180\n",
      "Epoch: 007/010 | Batch 0299/0469 | Cost: 0.0314\n",
      "Epoch: 007/010 | Batch 0349/0469 | Cost: 0.0150\n",
      "Epoch: 007/010 | Batch 0399/0469 | Cost: 0.0172\n",
      "Epoch: 007/010 | Batch 0449/0469 | Cost: 0.0254\n",
      "Epoch: 008/010 | Batch 0049/0469 | Cost: 0.0256\n",
      "Epoch: 008/010 | Batch 0099/0469 | Cost: 0.0125\n",
      "Epoch: 008/010 | Batch 0149/0469 | Cost: 0.0106\n",
      "Epoch: 008/010 | Batch 0199/0469 | Cost: 0.0498\n",
      "Epoch: 008/010 | Batch 0249/0469 | Cost: 0.0005\n",
      "Epoch: 008/010 | Batch 0299/0469 | Cost: 0.0280\n",
      "Epoch: 008/010 | Batch 0349/0469 | Cost: 0.0063\n",
      "Epoch: 008/010 | Batch 0399/0469 | Cost: 0.0306\n",
      "Epoch: 008/010 | Batch 0449/0469 | Cost: 0.0155\n",
      "Epoch: 009/010 | Batch 0049/0469 | Cost: 0.0021\n",
      "Epoch: 009/010 | Batch 0099/0469 | Cost: 0.0061\n",
      "Epoch: 009/010 | Batch 0149/0469 | Cost: 0.0039\n",
      "Epoch: 009/010 | Batch 0199/0469 | Cost: 0.0139\n",
      "Epoch: 009/010 | Batch 0249/0469 | Cost: 0.0192\n",
      "Epoch: 009/010 | Batch 0299/0469 | Cost: 0.0032\n",
      "Epoch: 009/010 | Batch 0349/0469 | Cost: 0.0075\n",
      "Epoch: 009/010 | Batch 0399/0469 | Cost: 0.0017\n",
      "Epoch: 009/010 | Batch 0449/0469 | Cost: 0.0354\n",
      "Epoch: 010/010 | Batch 0049/0469 | Cost: 0.0085\n",
      "Epoch: 010/010 | Batch 0099/0469 | Cost: 0.0024\n",
      "Epoch: 010/010 | Batch 0149/0469 | Cost: 0.0029\n",
      "Epoch: 010/010 | Batch 0199/0469 | Cost: 0.0009\n",
      "Epoch: 010/010 | Batch 0249/0469 | Cost: 0.0537\n",
      "Epoch: 010/010 | Batch 0299/0469 | Cost: 0.0027\n",
      "Epoch: 010/010 | Batch 0349/0469 | Cost: 0.0071\n",
      "Epoch: 010/010 | Batch 0399/0469 | Cost: 0.0112\n",
      "Epoch: 010/010 | Batch 0449/0469 | Cost: 0.0009\n",
      "Epoch: 010/010 | Train: 99.880%\n"
     ]
    }
   ],
   "source": [
    "def accuracy(model, dataloader):\n",
    "    correct, num_samples = 0, 0\n",
    "    for i, (features, targets) in enumerate(dataloader):\n",
    "        features = features.to(device)\n",
    "        targets = targets.to(device)\n",
    "        \n",
    "        logits, probas = model(features)\n",
    "        _, predict_labels = torch.max(probas, 1)\n",
    "        \n",
    "        num_samples += targets.size(0)\n",
    "        correct += (predict_labels == targets).sum()\n",
    "    \n",
    "    return correct.float() / num_samples * 100\n",
    "\n",
    "start_time = time.time()\n",
    "for epoch in range(epochs):\n",
    "    model.train()\n",
    "    \n",
    "    for batch_idx, (features, targets) in enumerate(train_loader):\n",
    "        features = features.to(device)\n",
    "        targets = targets.to(device)\n",
    "        \n",
    "        # forward\n",
    "        optimizer.zero_grad()\n",
    "        logits, probas = model(features)\n",
    "        cost = F.cross_entropy(logits, targets)\n",
    "        \n",
    "        # backward\n",
    "        cost.backward()\n",
    "        \n",
    "        # update\n",
    "        optimizer.step()\n",
    "        \n",
    "        if (batch_idx + 1) % 50 == 0:\n",
    "            print ('Epoch: %03d/%03d | Batch %04d/%04d | Cost: %.4f' \n",
    "                   %(epoch+1, epochs, batch_idx, \n",
    "                     len(train_loader), cost))\n",
    "model.eval()\n",
    "with torch.no_grad(): # save memory during inference\n",
    "    print('Epoch: %03d/%03d | Train: %.3f%%' % (\n",
    "          epoch+1, epochs, \n",
    "          accuracy(model, train_loader)))"
   ]
  },
  {
   "cell_type": "markdown",
   "metadata": {},
   "source": [
    "### evaluate"
   ]
  },
  {
   "cell_type": "code",
   "execution_count": 21,
   "metadata": {},
   "outputs": [
    {
     "name": "stdout",
     "output_type": "stream",
     "text": [
      "Test accuracy: 99.00%\n"
     ]
    }
   ],
   "source": [
    "with torch.set_grad_enabled(False): # save memory during inference\n",
    "    print('Test accuracy: %.2f%%' % (accuracy(model, test_loader)))"
   ]
  },
  {
   "cell_type": "code",
   "execution_count": 24,
   "metadata": {},
   "outputs": [
    {
     "name": "stdout",
     "output_type": "stream",
     "text": [
      "torch.Size([128, 1, 32, 32])\n",
      "torch.Size([128])\n",
      "torch.Size([32, 32, 1])\n",
      "(32, 32)\n"
     ]
    },
    {
     "data": {
      "image/png": "[encoded data removed]",
      "text/plain": [
       "<Figure size 432x288 with 1 Axes>"
      ]
     },
     "metadata": {
      "needs_background": "light"
     },
     "output_type": "display_data"
    }
   ],
   "source": [
    "for batch_idx, (features, targets) in enumerate(test_loader):\n",
    "    features = features\n",
    "    targets = targets\n",
    "    break\n",
    "\n",
    "print(features.size())\n",
    "print(targets.size())\n",
    "nhwc_img = np.transpose(features[0], axes=(1, 2, 0))\n",
    "print(nhwc_img.size())\n",
    "nhw_img = np.squeeze(nhwc_img.numpy(), axis=2)\n",
    "print(nhw_img.shape)\n",
    "plt.imshow(nhw_img, cmap='Greys')"
   ]
  }
 ],
 "metadata": {
  "kernelspec": {
   "display_name": "Python 3",
   "language": "python",
   "name": "python3"
  },
  "language_info": {
   "codemirror_mode": {
    "name": "ipython",
    "version": 3
   },
   "file_extension": ".py",
   "mimetype": "text/x-python",
   "name": "python",
   "nbconvert_exporter": "python",
   "pygments_lexer": "ipython3",
   "version": "3.6.10"
  }
 },
 "nbformat": 4,
 "nbformat_minor": 4
}
