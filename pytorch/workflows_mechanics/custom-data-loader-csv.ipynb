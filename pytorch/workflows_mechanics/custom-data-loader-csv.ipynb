{
 "cells": [
  {
   "cell_type": "markdown",
   "metadata": {},
   "source": [
    "## Using PyTorch Dataset Loading Utilities for Custom Datasets (CSV files converted to HDF5)\n",
    "\n",
    "This notebook provides an example for how to load a dataset from an HDF5 file created from a CSV file, using PyTorch's data loading utilities. For a more in-depth discussion, please see the official\n",
    "\n",
    "- [Data Loading and Processing Tutorial](http://pytorch.org/tutorials/beginner/data_loading_tutorial.html)\n",
    "- [torch.utils.data](http://pytorch.org/docs/master/data.html) API documentation\n",
    "\n",
    "An Hierarchical Data Format (HDF) is a convenient way that allows quick access to data instances during minibatch learning if a dataset is too large to fit into memory. The approach outlined in this notebook uses uses the common [HDF5](https://support.hdfgroup.org/HDF5/) format and should be accessible to any programming language or tool with an HDF5 API.\n"
   ]
  },
  {
   "cell_type": "code",
   "execution_count": 1,
   "metadata": {},
   "outputs": [],
   "source": [
    "import pandas as pd\n",
    "import numpy as np\n",
    "import h5py\n",
    "import torch\n",
    "from torch.utils.data import Dataset\n",
    "from torch.utils.data import DataLoader"
   ]
  },
  {
   "cell_type": "markdown",
   "metadata": {},
   "source": [
    "### 创建HDF5数据"
   ]
  },
  {
   "cell_type": "code",
   "execution_count": 2,
   "metadata": {},
   "outputs": [],
   "source": [
    "# csv_path = 'https://archive.ics.uci.edu/ml/machine-learning-databases/iris/iris.data'\n",
    "csv_path = \"../data/iris.data\"\n",
    "\n",
    "num_lines = 150\n",
    "num_features = 4\n",
    "\n",
    "class_dict = {'Iris-setosa': 0,\n",
    "              'Iris-versicolor': 1,\n",
    "              'Iris-virginica': 2}\n",
    "\n",
    "# use 10,000 or 100,000 or so for large files\n",
    "chunksize = 10\n",
    "\n",
    "with h5py.File('iris.h5', 'w') as h5f:\n",
    "    \n",
    "    # use num_features-1 if the csv file has a column header\n",
    "    dset1 = h5f.create_dataset('features',\n",
    "                               shape=(num_lines, num_features),\n",
    "                               compression=None,\n",
    "                               dtype='float32')\n",
    "    dset2 = h5f.create_dataset('labels',\n",
    "                               shape=(num_lines,),\n",
    "                               compression=None,\n",
    "                               dtype='int32')\n",
    "\n",
    "    # change range argument from 0 -> 1 if your csv file contains a column header\n",
    "    for i in range(0, num_lines, chunksize):  \n",
    "\n",
    "        df = pd.read_csv(csv_path,  \n",
    "                header=None,  # no header, define column header manually later\n",
    "                nrows=chunksize, # number of rows to read at each iteration\n",
    "                skiprows=i)   # skip rows that were already read\n",
    "        \n",
    "        df[4] = df[4].map(class_dict)\n",
    "\n",
    "        features = df.values[:, :4]\n",
    "        labels = df.values[:, -1]\n",
    "        \n",
    "        # use i-1 and i-1+10 if csv file has a column header\n",
    "        dset1[i:i+10, :] = features\n",
    "        dset2[i:i+10] = labels[0]"
   ]
  },
  {
   "cell_type": "code",
   "execution_count": 3,
   "metadata": {},
   "outputs": [
    {
     "name": "stdout",
     "output_type": "stream",
     "text": [
      "(150, 4)\n",
      "(150,)\n"
     ]
    }
   ],
   "source": [
    "with h5py.File('iris.h5', 'r') as h5f:\n",
    "    print(h5f['features'].shape)\n",
    "    print(h5f['labels'].shape)"
   ]
  },
  {
   "cell_type": "code",
   "execution_count": 4,
   "metadata": {},
   "outputs": [
    {
     "name": "stdout",
     "output_type": "stream",
     "text": [
      "Features of entry no. 99: [5.7 2.8 4.1 1.3]\n",
      "Class label of entry no. 99: 1\n"
     ]
    }
   ],
   "source": [
    "with h5py.File('iris.h5', 'r') as h5f:\n",
    "    print('Features of entry no. 99:', h5f['features'][99])\n",
    "    print('Class label of entry no. 99:', h5f['labels'][99])"
   ]
  },
  {
   "cell_type": "markdown",
   "metadata": {},
   "source": [
    "### 自定义dataset\n",
    "\n",
    "实现自己的dataset类，需要完成两件事：\n",
    "- `__getitem__(self, index) `:\n",
    " - 根据index读取单张image和label\n",
    " - 返回读取的image和对应的label\n",
    " \n",
    "- `__len(self)__`:\n",
    " - 返回数据集的长度\n"
   ]
  },
  {
   "cell_type": "code",
   "execution_count": 5,
   "metadata": {},
   "outputs": [],
   "source": [
    "class Hdf5Dataset(Dataset):\n",
    "    \"\"\"Custom Dataset for loading entries from HDF5 databases\"\"\"\n",
    "\n",
    "    def __init__(self, h5_path, transform=None):\n",
    "    \n",
    "        self.h5f = h5py.File(h5_path, 'r')\n",
    "        self.num_entries = self.h5f['labels'].shape[0]\n",
    "        self.transform = transform\n",
    "\n",
    "    def __getitem__(self, index):\n",
    "        \n",
    "        features = self.h5f['features'][index]\n",
    "        label = self.h5f['labels'][index]\n",
    "        if self.transform is not None:\n",
    "            features = self.transform(features)\n",
    "        return features, label\n",
    "\n",
    "    def __len__(self):\n",
    "        return self.num_entries"
   ]
  },
  {
   "cell_type": "code",
   "execution_count": 6,
   "metadata": {},
   "outputs": [],
   "source": [
    "train_dataset = Hdf5Dataset(h5_path='iris.h5',\n",
    "                            transform=None)\n",
    "\n",
    "train_loader = DataLoader(dataset=train_dataset,\n",
    "                          batch_size=50,\n",
    "                          shuffle=True,\n",
    "                          num_workers=0)"
   ]
  },
  {
   "cell_type": "markdown",
   "metadata": {},
   "source": [
    "### train"
   ]
  },
  {
   "cell_type": "code",
   "execution_count": 7,
   "metadata": {},
   "outputs": [
    {
     "name": "stdout",
     "output_type": "stream",
     "text": [
      "cuda\n",
      "Epoch: 1 | Batch index: 0 | Batch size: 50\n",
      "Epoch: 1 | Batch index: 1 | Batch size: 50\n",
      "Epoch: 1 | Batch index: 2 | Batch size: 50\n",
      "Epoch: 2 | Batch index: 0 | Batch size: 50\n",
      "Epoch: 2 | Batch index: 1 | Batch size: 50\n",
      "Epoch: 2 | Batch index: 2 | Batch size: 50\n",
      "Epoch: 3 | Batch index: 0 | Batch size: 50\n",
      "Epoch: 3 | Batch index: 1 | Batch size: 50\n",
      "Epoch: 3 | Batch index: 2 | Batch size: 50\n",
      "Epoch: 4 | Batch index: 0 | Batch size: 50\n",
      "Epoch: 4 | Batch index: 1 | Batch size: 50\n",
      "Epoch: 4 | Batch index: 2 | Batch size: 50\n",
      "Epoch: 5 | Batch index: 0 | Batch size: 50\n",
      "Epoch: 5 | Batch index: 1 | Batch size: 50\n",
      "Epoch: 5 | Batch index: 2 | Batch size: 50\n",
      "Epoch: 6 | Batch index: 0 | Batch size: 50\n",
      "Epoch: 6 | Batch index: 1 | Batch size: 50\n",
      "Epoch: 6 | Batch index: 2 | Batch size: 50\n",
      "Epoch: 7 | Batch index: 0 | Batch size: 50\n",
      "Epoch: 7 | Batch index: 1 | Batch size: 50\n",
      "Epoch: 7 | Batch index: 2 | Batch size: 50\n",
      "Epoch: 8 | Batch index: 0 | Batch size: 50\n",
      "Epoch: 8 | Batch index: 1 | Batch size: 50\n",
      "Epoch: 8 | Batch index: 2 | Batch size: 50\n",
      "Epoch: 9 | Batch index: 0 | Batch size: 50\n",
      "Epoch: 9 | Batch index: 1 | Batch size: 50\n",
      "Epoch: 9 | Batch index: 2 | Batch size: 50\n",
      "Epoch: 10 | Batch index: 0 | Batch size: 50\n",
      "Epoch: 10 | Batch index: 1 | Batch size: 50\n",
      "Epoch: 10 | Batch index: 2 | Batch size: 50\n"
     ]
    }
   ],
   "source": [
    "device = torch.device(\"cuda\" if torch.cuda.is_available() else \"cpu\")\n",
    "print(device)\n",
    "\n",
    "epochs = 10\n",
    "for epoch in range(epochs):\n",
    "    for batch_idx, (x, y) in enumerate(train_loader):\n",
    "        print('Epoch:', epoch+1, end='')\n",
    "        print(' | Batch index:', batch_idx, end='')\n",
    "        print(' | Batch size:', y.size()[0])\n",
    "        \n",
    "        x = x.to(device)\n",
    "        y = y.to(device)\n",
    "        \n",
    "        # train step here"
   ]
  },
  {
   "cell_type": "code",
   "execution_count": 8,
   "metadata": {},
   "outputs": [],
   "source": [
    "train_dataset.h5f.close()"
   ]
  }
 ],
 "metadata": {
  "kernelspec": {
   "display_name": "Python 3",
   "language": "python",
   "name": "python3"
  },
  "language_info": {
   "codemirror_mode": {
    "name": "ipython",
    "version": 3
   },
   "file_extension": ".py",
   "mimetype": "text/x-python",
   "name": "python",
   "nbconvert_exporter": "python",
   "pygments_lexer": "ipython3",
   "version": "3.6.10"
  }
 },
 "nbformat": 4,
 "nbformat_minor": 4
}
