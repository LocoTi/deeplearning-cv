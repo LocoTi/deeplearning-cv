{
 "cells": [
  {
   "cell_type": "markdown",
   "metadata": {},
   "source": [
    "## Generating Validation Set Splits"
   ]
  },
  {
   "cell_type": "code",
   "execution_count": 1,
   "metadata": {},
   "outputs": [],
   "source": [
    "import torch\n",
    "from torchvision import datasets\n",
    "from torchvision import transforms\n",
    "from torch.utils.data import DataLoader\n",
    "\n",
    "batch_size = 64"
   ]
  },
  {
   "cell_type": "markdown",
   "metadata": {},
   "source": [
    "### A Typical Dataset (here: MNIST)"
   ]
  },
  {
   "cell_type": "code",
   "execution_count": 3,
   "metadata": {},
   "outputs": [
    {
     "name": "stdout",
     "output_type": "stream",
     "text": [
      "Image batch dimensions: torch.Size([64, 1, 28, 28])\n",
      "Image label dimensions: torch.Size([64])\n"
     ]
    }
   ],
   "source": [
    "train_dataset = datasets.MNIST(root='D:/work/data/Python/mnist/', \n",
    "                               train=True, \n",
    "                               transform=transforms.ToTensor(),\n",
    "                               download=True)\n",
    "\n",
    "test_dataset = datasets.MNIST(root='D:/work/data/Python/mnist/', \n",
    "                              train=False, \n",
    "                              transform=transforms.ToTensor())\n",
    "\n",
    "\n",
    "train_loader = DataLoader(dataset=train_dataset, \n",
    "                          batch_size=batch_size,\n",
    "                          num_workers=0,\n",
    "                          shuffle=True)\n",
    "\n",
    "test_loader = DataLoader(dataset=test_dataset, \n",
    "                         batch_size=batch_size,\n",
    "                         num_workers=0,\n",
    "                         shuffle=False)\n",
    "\n",
    "for images, labels in train_loader:  \n",
    "    print('Image batch dimensions:', images.shape)\n",
    "    print('Image label dimensions:', labels.shape)\n",
    "    break"
   ]
  },
  {
   "cell_type": "markdown",
   "metadata": {},
   "source": [
    "### 1. Subset Method"
   ]
  },
  {
   "cell_type": "code",
   "execution_count": 4,
   "metadata": {},
   "outputs": [],
   "source": [
    "from torch.utils.data.dataset import Subset"
   ]
  },
  {
   "cell_type": "code",
   "execution_count": 5,
   "metadata": {},
   "outputs": [
    {
     "name": "stdout",
     "output_type": "stream",
     "text": [
      "Image batch dimensions: torch.Size([64, 1, 28, 28])\n",
      "Image label dimensions: torch.Size([64])\n"
     ]
    }
   ],
   "source": [
    "valid_indices = torch.arange(0, 1000)\n",
    "train_indices = torch.arange(1000, 60000)\n",
    "\n",
    "train_and_valid = datasets.MNIST(root='D:/work/data/Python/mnist/', \n",
    "                               train=True, \n",
    "                               transform=transforms.ToTensor(),\n",
    "                               download=True)\n",
    "\n",
    "train_dataset = Subset(train_and_valid, train_indices)\n",
    "valid_dataset = Subset(train_and_valid, valid_indices)\n",
    "\n",
    "train_loader = DataLoader(train_dataset,\n",
    "                           batch_size=batch_size,\n",
    "                           num_workers=0,\n",
    "                           shuffle=True)\n",
    "test_loader = DataLoader(test_dataset,\n",
    "                          batch_size=batch_size,\n",
    "                          num_workers=0,\n",
    "                          shuffle=True)\n",
    "\n",
    "for images, labels in train_loader:\n",
    "    print('Image batch dimensions:', images.shape)\n",
    "    print('Image label dimensions:', labels.shape)\n",
    "    break"
   ]
  },
  {
   "cell_type": "code",
   "execution_count": 6,
   "metadata": {},
   "outputs": [
    {
     "name": "stdout",
     "output_type": "stream",
     "text": [
      "tensor([1, 6, 6, 6, 8, 5, 8, 1, 3, 9])\n",
      "tensor([5, 2, 6, 0, 4, 1, 5, 4, 2, 9])\n"
     ]
    }
   ],
   "source": [
    "for images, labels in train_loader:  \n",
    "    pass\n",
    "print(labels[:10])\n",
    "\n",
    "for images, labels in train_loader:  \n",
    "    pass\n",
    "print(labels[:10])\n"
   ]
  },
  {
   "cell_type": "code",
   "execution_count": 7,
   "metadata": {},
   "outputs": [
    {
     "name": "stdout",
     "output_type": "stream",
     "text": [
      "tensor([1, 0, 3, 7, 0, 7, 5, 6, 8, 3])\n",
      "tensor([1, 0, 3, 7, 0, 7, 5, 6, 8, 3])\n"
     ]
    }
   ],
   "source": [
    "torch.manual_seed(123)\n",
    "for images, labels in train_loader:  \n",
    "    pass\n",
    "print(labels[:10])\n",
    "\n",
    "torch.manual_seed(123)\n",
    "for images, labels in train_loader:  \n",
    "    pass\n",
    "print(labels[:10])"
   ]
  },
  {
   "cell_type": "markdown",
   "metadata": {},
   "source": [
    "### 2. SubsetRandomSampler Method"
   ]
  },
  {
   "cell_type": "code",
   "execution_count": 8,
   "metadata": {},
   "outputs": [],
   "source": [
    "from torch.utils.data import SubsetRandomSampler"
   ]
  },
  {
   "cell_type": "code",
   "execution_count": 10,
   "metadata": {},
   "outputs": [],
   "source": [
    "train_indices = torch.arange(1000, 60000)\n",
    "valid_indices = torch.arange(0, 1000)\n",
    "\n",
    "train_sampler = SubsetRandomSampler(train_indices)\n",
    "valid_sampler = SubsetRandomSampler(valid_indices)\n",
    "\n",
    "training_transform = transforms.Compose([transforms.Resize((32, 32)),\n",
    "                                         transforms.RandomCrop((28, 28)),\n",
    "                                         transforms.ToTensor()])\n",
    "\n",
    "valid_transform = transforms.Compose([transforms.Resize((32, 32)),\n",
    "                                         transforms.CenterCrop((28, 28)),\n",
    "                                         transforms.ToTensor()])\n",
    "\n",
    "# train_dataset和valid_dataset的数据都是来自train数据集，但是使用不同transform\n",
    "# test_dataset来自test数据集\n",
    "train_dataset = datasets.MNIST(root='D:/work/data/Python/mnist/', \n",
    "                               train=True, \n",
    "                               transform=training_transform,\n",
    "                               download=True)\n",
    "\n",
    "valid_dataset = datasets.MNIST(root='D:/work/data/Python/mnist/', \n",
    "                               train=True, \n",
    "                               transform=valid_transform,\n",
    "                               download=False)\n",
    "\n",
    "test_dataset = datasets.MNIST(root='D:/work/data/Python/mnist/', \n",
    "                              train=False, \n",
    "                              transform=valid_transform,\n",
    "                              download=False)\n",
    "\n",
    "train_loader = DataLoader(train_dataset,\n",
    "                          batch_size=batch_size,\n",
    "                          num_workers=0,\n",
    "                          sampler=train_sampler)\n",
    "valid_loader = DataLoader(valid_dataset,\n",
    "                          batch_size=batch_size,\n",
    "                          num_workers=0,\n",
    "                          sampler=valid_sampler)\n",
    "\n",
    "test_loader = DataLoader(dataset=test_dataset, \n",
    "                         batch_size=batch_size,\n",
    "                         num_workers=0,\n",
    "                         shuffle=False)"
   ]
  },
  {
   "cell_type": "code",
   "execution_count": 11,
   "metadata": {},
   "outputs": [
    {
     "name": "stdout",
     "output_type": "stream",
     "text": [
      "Image batch dimensions: torch.Size([64, 1, 28, 28])\n",
      "Image label dimensions: torch.Size([64])\n"
     ]
    }
   ],
   "source": [
    "for images, labels in train_loader:  \n",
    "    print('Image batch dimensions:', images.shape)\n",
    "    print('Image label dimensions:', labels.shape)\n",
    "    break"
   ]
  },
  {
   "cell_type": "code",
   "execution_count": 12,
   "metadata": {},
   "outputs": [
    {
     "name": "stdout",
     "output_type": "stream",
     "text": [
      "tensor([5, 7, 4, 9, 1, 7, 4, 1, 6, 7])\n",
      "tensor([8, 2, 0, 7, 1, 3, 2, 6, 0, 4])\n"
     ]
    }
   ],
   "source": [
    "for images, labels in train_loader:  \n",
    "    pass\n",
    "print(labels[:10])\n",
    "\n",
    "for images, labels in train_loader:  \n",
    "    pass\n",
    "print(labels[:10])"
   ]
  },
  {
   "cell_type": "code",
   "execution_count": 13,
   "metadata": {},
   "outputs": [
    {
     "name": "stdout",
     "output_type": "stream",
     "text": [
      "tensor([1, 0, 3, 7, 0, 7, 5, 6, 8, 3])\n",
      "tensor([1, 0, 3, 7, 0, 7, 5, 6, 8, 3])\n"
     ]
    }
   ],
   "source": [
    "torch.manual_seed(123)\n",
    "for images, labels in train_loader:  \n",
    "    pass\n",
    "print(labels[:10])\n",
    "\n",
    "torch.manual_seed(123)\n",
    "for images, labels in train_loader:  \n",
    "    pass\n",
    "print(labels[:10])"
   ]
  },
  {
   "cell_type": "markdown",
   "metadata": {},
   "source": [
    "### 3. custom sampler"
   ]
  },
  {
   "cell_type": "code",
   "execution_count": 15,
   "metadata": {},
   "outputs": [],
   "source": [
    "from torch.utils.data import sampler"
   ]
  },
  {
   "cell_type": "code",
   "execution_count": 16,
   "metadata": {},
   "outputs": [],
   "source": [
    "class ChunkSampler(sampler.Sampler):\n",
    "    \"\"\"Samples elements sequentially from some offset. \n",
    "    Arguments:\n",
    "        num_samples: # of desired datapoints\n",
    "        start: offset where we should start selecting from\n",
    "    \"\"\"\n",
    "    def __init__(self, num_samples, start = 0):\n",
    "        self.num_samples = num_samples\n",
    "        self.start = start\n",
    "\n",
    "    def __iter__(self):\n",
    "        return iter(range(self.start, self.start + self.num_samples))\n",
    "\n",
    "    def __len__(self):\n",
    "        return self.num_samples"
   ]
  },
  {
   "cell_type": "code",
   "execution_count": 18,
   "metadata": {},
   "outputs": [
    {
     "name": "stdout",
     "output_type": "stream",
     "text": [
      "train_indices shape:  torch.Size([54000])\n",
      "valid_indices shape:  torch.Size([6000])\n"
     ]
    }
   ],
   "source": [
    "training_transform = transforms.Compose([transforms.Resize((32, 32)),\n",
    "                                         transforms.RandomCrop((28, 28)),\n",
    "                                         transforms.ToTensor()])\n",
    "\n",
    "valid_transform = transforms.Compose([transforms.Resize((32, 32)),\n",
    "                                         transforms.CenterCrop((28, 28)),\n",
    "                                         transforms.ToTensor()])\n",
    "\n",
    "# train_dataset和valid_dataset的数据都是来自train数据集，但是使用不同transform\n",
    "# test_dataset来自test数据集\n",
    "train_dataset = datasets.MNIST(root='D:/work/data/Python/mnist/', \n",
    "                               train=True, \n",
    "                               transform=training_transform,\n",
    "                               download=True)\n",
    "\n",
    "valid_dataset = datasets.MNIST(root='D:/work/data/Python/mnist/', \n",
    "                               train=True, \n",
    "                               transform=valid_transform,\n",
    "                               download=False)\n",
    "\n",
    "test_dataset = datasets.MNIST(root='D:/work/data/Python/mnist/', \n",
    "                              train=False, \n",
    "                              transform=valid_transform,\n",
    "                              download=False)\n",
    "\n",
    "validation_fraction = 0.1\n",
    "num = int(validation_fraction * 60000)\n",
    "train_indices = torch.arange(0, 60000 - num)\n",
    "valid_indices = torch.arange(60000 - num, 60000)\n",
    "\n",
    "print(\"train_indices shape: \", train_indices.shape)\n",
    "print(\"valid_indices shape: \", valid_indices.shape)\n",
    "train_sampler = ChunkSampler(train_indices.shape[0], 0)\n",
    "valid_sampler = ChunkSampler(valid_indices.shape[0], train_indices.shape[0])\n",
    "\n",
    "train_loader = DataLoader(dataset=train_dataset,\n",
    "                          batch_size=batch_size,\n",
    "                          num_workers=0,\n",
    "                          sampler=train_sampler)\n",
    "valid_loader = DataLoader(dataset=valid_dataset,\n",
    "                          batch_size=batch_size,\n",
    "                          num_workers=0,\n",
    "                          sampler=train_sampler)\n",
    "test_loader = DataLoader(dataset=test_dataset,\n",
    "                         batch_size=batch_size,\n",
    "                         shuffle=False)"
   ]
  },
  {
   "cell_type": "code",
   "execution_count": 19,
   "metadata": {},
   "outputs": [
    {
     "name": "stdout",
     "output_type": "stream",
     "text": [
      "Image batch dimensions: torch.Size([64, 1, 28, 28])\n",
      "Image label dimensions: torch.Size([64])\n"
     ]
    }
   ],
   "source": [
    "for images, labels in train_loader:  \n",
    "    print('Image batch dimensions:', images.shape)\n",
    "    print('Image label dimensions:', labels.shape)\n",
    "    break"
   ]
  },
  {
   "cell_type": "code",
   "execution_count": 20,
   "metadata": {},
   "outputs": [
    {
     "name": "stdout",
     "output_type": "stream",
     "text": [
      "tensor([8, 8, 3, 4, 7, 0, 3, 0, 3, 7])\n",
      "tensor([8, 8, 3, 4, 7, 0, 3, 0, 3, 7])\n"
     ]
    }
   ],
   "source": [
    "for images, labels in train_loader:  \n",
    "    pass\n",
    "print(labels[:10])\n",
    "\n",
    "for images, labels in train_loader:  \n",
    "    pass\n",
    "print(labels[:10])"
   ]
  },
  {
   "cell_type": "code",
   "execution_count": 21,
   "metadata": {},
   "outputs": [
    {
     "name": "stdout",
     "output_type": "stream",
     "text": [
      "tensor([8, 8, 3, 4, 7, 0, 3, 0, 3, 7])\n",
      "tensor([8, 8, 3, 4, 7, 0, 3, 0, 3, 7])\n"
     ]
    }
   ],
   "source": [
    "torch.manual_seed(123)\n",
    "for images, labels in train_loader:  \n",
    "    pass\n",
    "print(labels[:10])\n",
    "\n",
    "torch.manual_seed(123)\n",
    "for images, labels in train_loader:  \n",
    "    pass\n",
    "print(labels[:10])"
   ]
  }
 ],
 "metadata": {
  "kernelspec": {
   "display_name": "Python 3",
   "language": "python",
   "name": "python3"
  },
  "language_info": {
   "codemirror_mode": {
    "name": "ipython",
    "version": 3
   },
   "file_extension": ".py",
   "mimetype": "text/x-python",
   "name": "python",
   "nbconvert_exporter": "python",
   "pygments_lexer": "ipython3",
   "version": "3.6.10"
  }
 },
 "nbformat": 4,
 "nbformat_minor": 4
}
