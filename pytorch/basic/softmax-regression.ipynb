{
 "cells": [
  {
   "cell_type": "code",
   "execution_count": 1,
   "metadata": {},
   "outputs": [],
   "source": [
    "from torchvision import datasets\n",
    "from torchvision import transforms\n",
    "from torch.utils.data import DataLoader\n",
    "import torch.nn.functional as F\n",
    "import torch"
   ]
  },
  {
   "cell_type": "markdown",
   "metadata": {},
   "source": [
    "### parameters"
   ]
  },
  {
   "cell_type": "code",
   "execution_count": 2,
   "metadata": {},
   "outputs": [],
   "source": [
    "random_seed = 123\n",
    "learning_rate = 0.01\n",
    "epochs = 10\n",
    "batch_size = 64\n",
    "\n",
    "n_features = 784\n",
    "n_hidden = 128\n",
    "n_classes = 10"
   ]
  },
  {
   "cell_type": "markdown",
   "metadata": {},
   "source": [
    "### data"
   ]
  },
  {
   "cell_type": "code",
   "execution_count": 3,
   "metadata": {
    "scrolled": true
   },
   "outputs": [
    {
     "name": "stdout",
     "output_type": "stream",
     "text": [
      "Image batch dimensions: torch.Size([64, 1, 28, 28])\n",
      "Image label dimensions: torch.Size([64])\n"
     ]
    }
   ],
   "source": [
    "train_dataset = datasets.MNIST(root=\"D:/work/data/Python/mnist/\",\n",
    "                              train=True,\n",
    "                              transform=transforms.Compose([\n",
    "                                  transforms.ToTensor(),\n",
    "                                  transforms.Normalize((0.1307,), (0.3081,))\n",
    "                              ]),\n",
    "                              download=True)\n",
    "test_dataset = datasets.MNIST(root=\"D:/work/data/Python/mnist/\",\n",
    "                             train=False,\n",
    "                             transform=transforms.Compose([\n",
    "                                 transforms.ToTensor(),\n",
    "                                 transforms.Normalize((0.1307,), (0.3081,))\n",
    "                             ]))\n",
    "\n",
    "train_loader = DataLoader(dataset=train_dataset, batch_size=batch_size, shuffle=True)\n",
    "test_loader = DataLoader(dataset=test_dataset, batch_size=batch_size, shuffle=False)\n",
    "\n",
    "# checking dataset\n",
    "for images, label in train_loader:\n",
    "    print('Image batch dimensions:', images.shape)\n",
    "    print('Image label dimensions:', label.shape)\n",
    "    break"
   ]
  },
  {
   "cell_type": "markdown",
   "metadata": {},
   "source": [
    "### model"
   ]
  },
  {
   "cell_type": "code",
   "execution_count": 4,
   "metadata": {},
   "outputs": [
    {
     "name": "stdout",
     "output_type": "stream",
     "text": [
      "cuda\n"
     ]
    }
   ],
   "source": [
    "device = torch.device(\"cuda\" if torch.cuda.is_available() else \"cpu\")\n",
    "print(device)"
   ]
  },
  {
   "cell_type": "code",
   "execution_count": 5,
   "metadata": {},
   "outputs": [],
   "source": [
    "class SoftmaxRegression(torch.nn.Module):\n",
    "    def __init__(self, n_features, n_hidden, n_classes):\n",
    "        super(SoftmaxRegression, self).__init__()\n",
    "        \n",
    "        self.linear1 = torch.nn.Linear(n_features, n_hidden)\n",
    "        self.relu = torch.nn.ReLU()\n",
    "        self.linear2 = torch.nn.Linear(n_hidden, n_classes)\n",
    "        \n",
    "    def forward(self, x):\n",
    "        x = self.linear1(x)\n",
    "        x = self.relu(x)\n",
    "        logits = self.linear2(x)\n",
    "        \n",
    "        probas = F.softmax(logits, dim=1)\n",
    "        \n",
    "        return logits, probas\n",
    "\n",
    "model = SoftmaxRegression(n_features, n_hidden, n_classes).to(device)\n",
    "optimizer = torch.optim.SGD(model.parameters(), lr=learning_rate)"
   ]
  },
  {
   "cell_type": "code",
   "execution_count": 6,
   "metadata": {},
   "outputs": [],
   "source": [
    "torch.manual_seed(random_seed)\n",
    "\n",
    "def accuracy(model, dataloader):\n",
    "    correct, n_examples = 0, 0\n",
    "    \n",
    "    for batch_x, batch_y in dataloader:\n",
    "        batch_x = batch_x.view(-1, n_features).to(device)\n",
    "        batch_y = batch_y.to(device)\n",
    "        \n",
    "        logits, probas = model(batch_x)\n",
    "        \n",
    "        _, predict_labels = torch.max(probas, 1)\n",
    "        \n",
    "        n_examples += batch_x.size(0)\n",
    "        correct += (predict_labels == batch_y).sum()\n",
    "    \n",
    "    return correct.float() / n_examples"
   ]
  },
  {
   "cell_type": "code",
   "execution_count": 7,
   "metadata": {},
   "outputs": [
    {
     "name": "stdout",
     "output_type": "stream",
     "text": [
      "Epoch: 001/010 | Batch 000/937 | Cost: 2.3438\n",
      "Epoch: 001/010 | Batch 500/937 | Cost: 0.4153\n",
      "Epoch: 001/010 training accuracy: 0.90%\n",
      "Epoch: 002/010 | Batch 000/937 | Cost: 0.5030\n",
      "Epoch: 002/010 | Batch 500/937 | Cost: 0.3355\n",
      "Epoch: 002/010 training accuracy: 0.92%\n",
      "Epoch: 003/010 | Batch 000/937 | Cost: 0.2112\n",
      "Epoch: 003/010 | Batch 500/937 | Cost: 0.1929\n",
      "Epoch: 003/010 training accuracy: 0.93%\n",
      "Epoch: 004/010 | Batch 000/937 | Cost: 0.2733\n",
      "Epoch: 004/010 | Batch 500/937 | Cost: 0.1251\n",
      "Epoch: 004/010 training accuracy: 0.94%\n",
      "Epoch: 005/010 | Batch 000/937 | Cost: 0.3095\n",
      "Epoch: 005/010 | Batch 500/937 | Cost: 0.2064\n",
      "Epoch: 005/010 training accuracy: 0.95%\n",
      "Epoch: 006/010 | Batch 000/937 | Cost: 0.2231\n",
      "Epoch: 006/010 | Batch 500/937 | Cost: 0.2056\n",
      "Epoch: 006/010 training accuracy: 0.95%\n",
      "Epoch: 007/010 | Batch 000/937 | Cost: 0.1351\n",
      "Epoch: 007/010 | Batch 500/937 | Cost: 0.1114\n",
      "Epoch: 007/010 training accuracy: 0.96%\n",
      "Epoch: 008/010 | Batch 000/937 | Cost: 0.1074\n",
      "Epoch: 008/010 | Batch 500/937 | Cost: 0.1124\n",
      "Epoch: 008/010 training accuracy: 0.96%\n",
      "Epoch: 009/010 | Batch 000/937 | Cost: 0.0777\n",
      "Epoch: 009/010 | Batch 500/937 | Cost: 0.0660\n",
      "Epoch: 009/010 training accuracy: 0.96%\n",
      "Epoch: 010/010 | Batch 000/937 | Cost: 0.1966\n",
      "Epoch: 010/010 | Batch 500/937 | Cost: 0.2468\n",
      "Epoch: 010/010 training accuracy: 0.97%\n"
     ]
    }
   ],
   "source": [
    "for epoch in range(epochs):\n",
    "    for batch_idx, (batch_x, batch_y) in enumerate(train_loader):\n",
    "        batch_x = batch_x.view(-1, n_features).to(device)\n",
    "        batch_y = batch_y.to(device)\n",
    "        \n",
    "        # forward\n",
    "        logits, probas = model(batch_x)\n",
    "        \n",
    "        # cost\n",
    "        loss = F.cross_entropy(logits, batch_y)\n",
    "        \n",
    "        # backward\n",
    "        optimizer.zero_grad()\n",
    "        loss.backward()\n",
    "        \n",
    "        # update\n",
    "        optimizer.step()\n",
    "        \n",
    "        # logging\n",
    "        if batch_idx % 500 == 0:\n",
    "            print ('Epoch: %03d/%03d | Batch %03d/%03d | Cost: %.4f' \n",
    "                   %(epoch+1, epochs, batch_idx, \n",
    "                     len(train_dataset)//batch_size, loss))\n",
    "    with torch.no_grad():\n",
    "        print('Epoch: %03d/%03d training accuracy: %.2f%%' % (\n",
    "                  epoch+1, epochs, \n",
    "                  accuracy(model, train_loader)))"
   ]
  },
  {
   "cell_type": "code",
   "execution_count": 9,
   "metadata": {},
   "outputs": [
    {
     "name": "stdout",
     "output_type": "stream",
     "text": [
      "Test accuracy: 0.96%\n"
     ]
    }
   ],
   "source": [
    "print('Test accuracy: %.2f%%' % (accuracy(model, test_loader)))"
   ]
  }
 ],
 "metadata": {
  "kernelspec": {
   "display_name": "Python 3",
   "language": "python",
   "name": "python3"
  },
  "language_info": {
   "codemirror_mode": {
    "name": "ipython",
    "version": 3
   },
   "file_extension": ".py",
   "mimetype": "text/x-python",
   "name": "python",
   "nbconvert_exporter": "python",
   "pygments_lexer": "ipython3",
   "version": "3.6.10"
  }
 },
 "nbformat": 4,
 "nbformat_minor": 4
}
