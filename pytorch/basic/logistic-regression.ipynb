{
 "cells": [
  {
   "cell_type": "code",
   "execution_count": 1,
   "metadata": {},
   "outputs": [],
   "source": [
    "import torch\n",
    "import torch.nn.functional as F\n",
    "import matplotlib.pyplot as plt\n",
    "import numpy as np\n",
    "import pandas as pd"
   ]
  },
  {
   "cell_type": "markdown",
   "metadata": {},
   "source": [
    "## 数据"
   ]
  },
  {
   "cell_type": "code",
   "execution_count": 2,
   "metadata": {},
   "outputs": [
    {
     "name": "stdout",
     "output_type": "stream",
     "text": [
      "x_train.shape: (70, 2)\n",
      "y_train.shape: (70, 1)\n"
     ]
    },
    {
     "data": {
      "image/png": "[encoded data removed]",
      "text/plain": [
       "<Figure size 504x180 with 2 Axes>"
      ]
     },
     "metadata": {
      "needs_background": "light"
     },
     "output_type": "display_data"
    }
   ],
   "source": [
    "df = pd.read_csv(\"../data/iris.data\", sep=\",\")\n",
    "data = df.to_numpy()\n",
    "\n",
    "x = data[:100, :2].astype(np.float)\n",
    "y = np.zeros(100)\n",
    "y[50:] = 1\n",
    "\n",
    "n, m = x.shape\n",
    "shuffle_idx = np.random.permutation(n)\n",
    "x, y = x[shuffle_idx], y[shuffle_idx]\n",
    "\n",
    "x_train, x_test = x[:70], x[70:]\n",
    "y_train, y_test = y[:70], y[70:]\n",
    "\n",
    "mu, std = np.mean(x_train, axis=0), np.std(x_train, axis=0)\n",
    "x_train, x_test = (x_train - mu) / std, (x_test - mu) / std\n",
    "y_train, y_test = y_train.reshape((-1, 1)), y_test.reshape((-1, 1))\n",
    "print('x_train.shape:', x_train.shape)\n",
    "print('y_train.shape:', y_train.shape)\n",
    "\n",
    "fig, ax = plt.subplots(1, 2, figsize=(7, 2.5))\n",
    "ax[0].scatter(x_train[y_train[:, 0] == 1, 0], x_train[y_train[:, 0] == 1, 1])\n",
    "ax[0].scatter(x_train[y_train[:, 0] == 0, 0], x_train[y_train[:, 0] == 0, 1])\n",
    "ax[1].scatter(x_test[y_test[:, 0] == 1, 0], x_test[y_test[:, 0] == 1, 1])\n",
    "ax[1].scatter(x_test[y_test[:, 0] == 0, 0], x_test[y_test[:, 0] == 0, 1])\n",
    "plt.show()"
   ]
  },
  {
   "cell_type": "markdown",
   "metadata": {},
   "source": [
    "## 0. low-level with manual gradients"
   ]
  },
  {
   "cell_type": "code",
   "execution_count": 3,
   "metadata": {},
   "outputs": [
    {
     "name": "stdout",
     "output_type": "stream",
     "text": [
      "cuda:0\n"
     ]
    }
   ],
   "source": [
    "device = torch.device(\"cuda:0\" if torch.cuda.is_available() else \"cpu\")\n",
    "print(device)"
   ]
  },
  {
   "cell_type": "code",
   "execution_count": 4,
   "metadata": {},
   "outputs": [],
   "source": [
    "def init_parameters():\n",
    "    weights = torch.randn(2, 1, dtype=torch.float32, device=device)\n",
    "    bias = torch.zeros(1, dtype=torch.float32, device=device)\n",
    "    return weights, bias\n",
    "\n",
    "def forward(x, weights, bias):\n",
    "    linear = torch.add(torch.mm(x, weights), bias)\n",
    "    predict_probas = torch.sigmoid(linear)\n",
    "    return predict_probas\n",
    "\n",
    "def predict_label(logits):\n",
    "    predict_labals = torch.round(logits)\n",
    "    return predict_labals\n",
    "\n",
    "def cost(logits, y):\n",
    "    cost = -(torch.mul(y, torch.log(logits)) + torch.mul(1-y, torch.log(1-logits)))\n",
    "    return cost\n",
    "\n",
    "def train(x, y, weights, bias, epochs, learning_rate=0.01):\n",
    "    print(x.size())\n",
    "    print(y.size())\n",
    "    for epoch in range(epochs):\n",
    "        predict_probas = forward(x, weights, bias)\n",
    "        \n",
    "        gw = torch.mm(x.transpose(0, 1), y-predict_probas)\n",
    "        gb = torch.sum(y-predict_probas)\n",
    "        \n",
    "        weights += learning_rate * gw\n",
    "        bias += learning_rate * gb\n",
    "    \n",
    "    return weights, bias"
   ]
  },
  {
   "cell_type": "code",
   "execution_count": 5,
   "metadata": {},
   "outputs": [
    {
     "name": "stdout",
     "output_type": "stream",
     "text": [
      "torch.Size([70, 2])\n",
      "torch.Size([70, 1])\n"
     ]
    },
    {
     "data": {
      "text/plain": [
       "(tensor([[ 0.9255],\n",
       "         [-1.2527]], device='cuda:0'),\n",
       " tensor([-0.0586], device='cuda:0'))"
      ]
     },
     "execution_count": 5,
     "metadata": {},
     "output_type": "execute_result"
    }
   ],
   "source": [
    "x_train_tensor = torch.tensor(x_train, dtype=torch.float32, device=device)\n",
    "y_train_tensor = torch.tensor(y_train, dtype=torch.float32, device=device)\n",
    "\n",
    "weights, bias = init_parameters()\n",
    "weights, bias = train(x_train_tensor, y_train_tensor, weights, bias, epochs=10, learning_rate=0.01)\n",
    "weights, bias"
   ]
  },
  {
   "cell_type": "code",
   "execution_count": 6,
   "metadata": {},
   "outputs": [
    {
     "name": "stderr",
     "output_type": "stream",
     "text": [
      "No handles with labels found to put in legend.\n"
     ]
    },
    {
     "data": {
      "image/png": "[encoded data removed]",
      "text/plain": [
       "<Figure size 504x216 with 2 Axes>"
      ]
     },
     "metadata": {
      "needs_background": "light"
     },
     "output_type": "display_data"
    }
   ],
   "source": [
    "w, b = weights, bias\n",
    "\n",
    "x_min = -2\n",
    "y_min = ( (-(w[0] * x_min) - b[0]) \n",
    "          / w[1] )\n",
    "\n",
    "x_max = 2\n",
    "y_max = ( (-(w[0] * x_max) - b[0]) \n",
    "          / w[1] )\n",
    "\n",
    "fig, ax = plt.subplots(1, 2, sharex=True, figsize=(7, 3))\n",
    "\n",
    "ax[0].set_ylim([-3, 3])\n",
    "ax[1].set_ylim([-3, 3])\n",
    "\n",
    "ax[0].plot([x_min, x_max], [y_min, y_max])\n",
    "ax[1].plot([x_min, x_max], [y_min, y_max])\n",
    "\n",
    "ax[0].scatter(x_train[y_train[:, 0] == 1, 0], x_train[y_train[:, 0] == 1, 1])\n",
    "ax[0].scatter(x_train[y_train[:, 0] == 0, 0], x_train[y_train[:, 0] == 0, 1])\n",
    "ax[1].scatter(x_test[y_test[:, 0] == 1, 0], x_test[y_test[:, 0] == 1, 1])\n",
    "ax[1].scatter(x_test[y_test[:, 0] == 0, 0], x_test[y_test[:, 0] == 0, 1])\n",
    "\n",
    "ax[1].legend(loc='upper left')\n",
    "plt.show()"
   ]
  },
  {
   "cell_type": "markdown",
   "metadata": {},
   "source": [
    "## 1. low-level with manual gradients"
   ]
  },
  {
   "cell_type": "markdown",
   "metadata": {},
   "source": [
    "### 模型"
   ]
  },
  {
   "cell_type": "code",
   "execution_count": 7,
   "metadata": {},
   "outputs": [],
   "source": [
    "class LogisticRegression():\n",
    "    def __init__(self, n_features):\n",
    "        self.n_features = n_features\n",
    "        self.weights = torch.randn(2, 1, dtype=torch.float32, device=device)\n",
    "        self.bias = torch.zeros(1, dtype=torch.float32, device=device)\n",
    "    \n",
    "    def forward(self, x):\n",
    "        linear = torch.add(torch.mm(x, self.weights), self.bias)\n",
    "        probas = self._sigmoid(linear)\n",
    "        return probas\n",
    "    \n",
    "    def backward(self, probas, y):\n",
    "        cost = y - probas\n",
    "        return cost\n",
    "    \n",
    "    def predict_label(self, x):\n",
    "        probas = self.forward(x)\n",
    "        labels = torch.round(probas)\n",
    "        return labels\n",
    "    \n",
    "    def evaluate(self, x, y):\n",
    "        labels = self.predict_label(x).float()\n",
    "        accuracy = torch.sum((labels == y).float()) / y.size()[0]\n",
    "        return accuracy\n",
    "    \n",
    "    def _sigmoid(self, z):\n",
    "        return 1. / (1. + torch.exp(-z))\n",
    "    \n",
    "    def _logit_cost(self, y, proba):\n",
    "         return -torch.sum(torch.mul(y, torch.log(proba)) + torch.mul((1-y), torch.log(1-proba)))\n",
    "    \n",
    "    def train(self, x, y, epochs, learning_rate=0.01):\n",
    "        for epoch in range(epochs):\n",
    "            # predict\n",
    "            probas = self.forward(x)\n",
    "            \n",
    "            # gradient\n",
    "            cost = self.backward(probas, y)\n",
    "            ## gw = (y-logits)*x\n",
    "            ## gb = (y-logits)\n",
    "            gw = torch.mm(x.transpose(0, 1), cost)\n",
    "            gb = torch.sum(cost)\n",
    "            \n",
    "            # update weights\n",
    "            self.weights += learning_rate * gw\n",
    "            self.bias += learning_rate * gb\n",
    "            \n",
    "            # log\n",
    "            print('Epoch: %03d' % (epoch+1), end=\"\")\n",
    "            print(' | Train ACC: %.3f' % self.evaluate(x, y), end=\"\")\n",
    "            print(' | Cost: %.3f' % self._logit_cost(y, self.forward(x)))"
   ]
  },
  {
   "cell_type": "markdown",
   "metadata": {},
   "source": [
    "### train"
   ]
  },
  {
   "cell_type": "code",
   "execution_count": 8,
   "metadata": {},
   "outputs": [
    {
     "name": "stdout",
     "output_type": "stream",
     "text": [
      "Epoch: 001 | Train ACC: 0.714 | Cost: 41.687\n",
      "Epoch: 002 | Train ACC: 0.814 | Cost: 33.102\n",
      "Epoch: 003 | Train ACC: 0.900 | Cost: 27.052\n",
      "Epoch: 004 | Train ACC: 0.929 | Cost: 22.733\n",
      "Epoch: 005 | Train ACC: 0.943 | Cost: 19.581\n",
      "Epoch: 006 | Train ACC: 0.957 | Cost: 17.217\n",
      "Epoch: 007 | Train ACC: 0.957 | Cost: 15.394\n",
      "Epoch: 008 | Train ACC: 0.986 | Cost: 13.951\n",
      "Epoch: 009 | Train ACC: 0.986 | Cost: 12.783\n",
      "Epoch: 010 | Train ACC: 0.986 | Cost: 11.819\n",
      "\n",
      "Model parameters:\n",
      "  Weights: tensor([[ 1.7948],\n",
      "        [-0.9731]], device='cuda:0')\n",
      "  Bias: tensor([-0.0046], device='cuda:0')\n"
     ]
    }
   ],
   "source": [
    "x_train_tensor = torch.tensor(x_train, dtype=torch.float32, device=device)\n",
    "y_train_tensor = torch.tensor(y_train, dtype=torch.float32, device=device)\n",
    "\n",
    "logisticRegression = LogisticRegression(n_features=2)\n",
    "logisticRegression.train(x_train_tensor, y_train_tensor, epochs=10, learning_rate=0.01)\n",
    "\n",
    "print('\\nModel parameters:')\n",
    "print('  Weights: %s' % logisticRegression.weights)\n",
    "print('  Bias: %s' % logisticRegression.bias)"
   ]
  },
  {
   "cell_type": "markdown",
   "metadata": {},
   "source": [
    "### Evaluating the Model"
   ]
  },
  {
   "cell_type": "code",
   "execution_count": 9,
   "metadata": {},
   "outputs": [
    {
     "name": "stdout",
     "output_type": "stream",
     "text": [
      "Test set accuracy: 96.67%\n"
     ]
    }
   ],
   "source": [
    "x_test_tensor = torch.tensor(x_test, dtype=torch.float32, device=device)\n",
    "y_test_tensor = torch.tensor(y_test, dtype=torch.float32, device=device)\n",
    "\n",
    "test_acc = logisticRegression.evaluate(x_test_tensor, y_test_tensor)\n",
    "print('Test set accuracy: %.2f%%' % (test_acc*100))"
   ]
  },
  {
   "cell_type": "code",
   "execution_count": 10,
   "metadata": {},
   "outputs": [
    {
     "name": "stderr",
     "output_type": "stream",
     "text": [
      "No handles with labels found to put in legend.\n"
     ]
    },
    {
     "data": {
      "image/png": "[encoded data removed]",
      "text/plain": [
       "<Figure size 504x216 with 2 Axes>"
      ]
     },
     "metadata": {
      "needs_background": "light"
     },
     "output_type": "display_data"
    }
   ],
   "source": [
    "w, b = logisticRegression.weights, logisticRegression.bias\n",
    "\n",
    "x_min = -2\n",
    "y_min = ( (-(w[0] * x_min) - b[0]) \n",
    "          / w[1] )\n",
    "\n",
    "x_max = 2\n",
    "y_max = ( (-(w[0] * x_max) - b[0]) \n",
    "          / w[1] )\n",
    "\n",
    "fig, ax = plt.subplots(1, 2, sharex=True, figsize=(7, 3))\n",
    "\n",
    "ax[0].set_ylim([-3, 3])\n",
    "ax[1].set_ylim([-3, 3])\n",
    "\n",
    "ax[0].plot([x_min, x_max], [y_min, y_max])\n",
    "ax[1].plot([x_min, x_max], [y_min, y_max])\n",
    "\n",
    "ax[0].scatter(x_train[y_train[:, 0] == 1, 0], x_train[y_train[:, 0] == 1, 1])\n",
    "ax[0].scatter(x_train[y_train[:, 0] == 0, 0], x_train[y_train[:, 0] == 0, 1])\n",
    "ax[1].scatter(x_test[y_test[:, 0] == 1, 0], x_test[y_test[:, 0] == 1, 1])\n",
    "ax[1].scatter(x_test[y_test[:, 0] == 0, 0], x_test[y_test[:, 0] == 0, 1])\n",
    "\n",
    "ax[1].legend(loc='upper left')\n",
    "plt.show()"
   ]
  },
  {
   "cell_type": "markdown",
   "metadata": {},
   "source": [
    "## 2. low-level with autograd"
   ]
  },
  {
   "cell_type": "code",
   "execution_count": 11,
   "metadata": {},
   "outputs": [],
   "source": [
    "class LogisticRegression2():\n",
    "    def __init__(self, n_features):\n",
    "        self.n_features = n_features\n",
    "        self.weights = torch.randn(2, 1, dtype=torch.float32, device=device, requires_grad=True)\n",
    "        self.bias = torch.zeros(1, dtype=torch.float32, device=device, requires_grad=True)\n",
    "    \n",
    "    def forward(self, x):\n",
    "        linear = torch.add(torch.mm(x, self.weights), self.bias)\n",
    "        probas = self._sigmoid(linear)\n",
    "        return probas\n",
    "    \n",
    "    def backward(self, probas, y):\n",
    "        cost = y - probas\n",
    "        return cost\n",
    "    \n",
    "    def predict_label(self, x):\n",
    "        probas = self.forward(x)\n",
    "        labels = torch.round(probas)\n",
    "        return labels\n",
    "    \n",
    "    def evaluate(self, x, y):\n",
    "        labels = self.predict_label(x).float()\n",
    "        accuracy = torch.sum((labels == y).float()) / y.size()[0]\n",
    "        return accuracy\n",
    "    \n",
    "    def _sigmoid(self, z):\n",
    "        return 1. / (1. + torch.exp(-z))\n",
    "    \n",
    "    def _logit_cost(self, y, proba):\n",
    "         return -torch.sum(torch.mul(y, torch.log(proba)) + torch.mul((1-y), torch.log(1-proba)))\n",
    "    \n",
    "    def train(self, x, y, epochs, learning_rate=0.01):\n",
    "        for epoch in range(epochs):\n",
    "            # predict\n",
    "            probas = self.forward(x)\n",
    "            \n",
    "            # gradient\n",
    "            cost = self._logit_cost(y, probas)\n",
    "            cost.backward()\n",
    "            \n",
    "            # update weights\n",
    "            ## 如果是自动求导，则不能直接复制\n",
    "            ## self.weights -= learning_rate * self.weights.grad ## ERROR\n",
    "            tmp = self.weights.detach()\n",
    "            tmp -= learning_rate * self.weights.grad\n",
    "            \n",
    "            tmp = self.bias.detach()\n",
    "            tmp -= learning_rate * self.bias.grad\n",
    "            \n",
    "            # reset gradients to zero\n",
    "            self.weights.grad.zero_()\n",
    "            self.bias.grad.zero_()\n",
    "            \n",
    "            # log\n",
    "            print('Epoch: %03d' % (epoch+1), end=\"\")\n",
    "            print(' | Train ACC: %.3f' % self.evaluate(x, y), end=\"\")\n",
    "            print(' | Cost: %.3f' % self._logit_cost(y, self.forward(x)))"
   ]
  },
  {
   "cell_type": "code",
   "execution_count": 12,
   "metadata": {
    "scrolled": true
   },
   "outputs": [
    {
     "name": "stdout",
     "output_type": "stream",
     "text": [
      "Epoch: 001 | Train ACC: 1.000 | Cost: 2.428\n",
      "Epoch: 002 | Train ACC: 1.000 | Cost: 2.249\n",
      "Epoch: 003 | Train ACC: 1.000 | Cost: 2.101\n",
      "Epoch: 004 | Train ACC: 1.000 | Cost: 1.976\n",
      "Epoch: 005 | Train ACC: 1.000 | Cost: 1.868\n",
      "Epoch: 006 | Train ACC: 1.000 | Cost: 1.773\n",
      "Epoch: 007 | Train ACC: 1.000 | Cost: 1.690\n",
      "Epoch: 008 | Train ACC: 1.000 | Cost: 1.615\n",
      "Epoch: 009 | Train ACC: 1.000 | Cost: 1.547\n",
      "Epoch: 010 | Train ACC: 1.000 | Cost: 1.486\n",
      "\n",
      "Model parameters:\n",
      "  Weights: tensor([[ 3.7354],\n",
      "        [-3.6574]], device='cuda:0', requires_grad=True)\n",
      "  Bias: tensor([0.1855], device='cuda:0', requires_grad=True)\n"
     ]
    }
   ],
   "source": [
    "x_train_tensor = torch.tensor(x_train, dtype=torch.float32, device=device)\n",
    "y_train_tensor = torch.tensor(y_train, dtype=torch.float32, device=device)\n",
    "\n",
    "logr = LogisticRegression2(n_features=2)\n",
    "logr.train(x_train_tensor, y_train_tensor, epochs=10, learning_rate=0.1)\n",
    "\n",
    "print('\\nModel parameters:')\n",
    "print('  Weights: %s' % logr.weights)\n",
    "print('  Bias: %s' % logr.bias)"
   ]
  },
  {
   "cell_type": "code",
   "execution_count": 13,
   "metadata": {},
   "outputs": [
    {
     "name": "stdout",
     "output_type": "stream",
     "text": [
      "Test set accuracy: 93.33%\n"
     ]
    }
   ],
   "source": [
    "x_test_tensor = torch.tensor(x_test, dtype=torch.float32, device=device)\n",
    "y_test_tensor = torch.tensor(y_test, dtype=torch.float32, device=device)\n",
    "\n",
    "test_acc = logr.evaluate(x_test_tensor, y_test_tensor)\n",
    "print('Test set accuracy: %.2f%%' % (test_acc*100))"
   ]
  },
  {
   "cell_type": "code",
   "execution_count": 14,
   "metadata": {},
   "outputs": [
    {
     "name": "stderr",
     "output_type": "stream",
     "text": [
      "No handles with labels found to put in legend.\n"
     ]
    },
    {
     "data": {
      "image/png": "[encoded data removed]",
      "text/plain": [
       "<Figure size 504x216 with 2 Axes>"
      ]
     },
     "metadata": {
      "needs_background": "light"
     },
     "output_type": "display_data"
    }
   ],
   "source": [
    "w, b = logr.weights, logr.bias\n",
    "\n",
    "x_min = -2\n",
    "y_min = ( (-(w[0] * x_min) - b[0]) \n",
    "          / w[1] )\n",
    "\n",
    "x_max = 2\n",
    "y_max = ( (-(w[0] * x_max) - b[0]) \n",
    "          / w[1] )\n",
    "\n",
    "fig, ax = plt.subplots(1, 2, sharex=True, figsize=(7, 3))\n",
    "\n",
    "ax[0].set_ylim([-3, 3])\n",
    "ax[1].set_ylim([-3, 3])\n",
    "\n",
    "ax[0].plot([x_min, x_max], [y_min, y_max])\n",
    "ax[1].plot([x_min, x_max], [y_min, y_max])\n",
    "\n",
    "ax[0].scatter(x_train[y_train[:, 0] == 1, 0], x_train[y_train[:, 0] == 1, 1])\n",
    "ax[0].scatter(x_train[y_train[:, 0] == 0, 0], x_train[y_train[:, 0] == 0, 1])\n",
    "ax[1].scatter(x_test[y_test[:, 0] == 1, 0], x_test[y_test[:, 0] == 1, 1])\n",
    "ax[1].scatter(x_test[y_test[:, 0] == 0, 0], x_test[y_test[:, 0] == 0, 1])\n",
    "\n",
    "ax[1].legend(loc='upper left')\n",
    "plt.show()"
   ]
  },
  {
   "cell_type": "markdown",
   "metadata": {},
   "source": [
    "## 3. high-level with autograd"
   ]
  },
  {
   "cell_type": "code",
   "execution_count": 15,
   "metadata": {},
   "outputs": [],
   "source": [
    "class LogisticRegression3(torch.nn.Module):\n",
    "    def __init__(self, n_features):\n",
    "        super(LogisticRegression3, self).__init__()\n",
    "        self.linear = torch.nn.Linear(n_features, 1)\n",
    "        \n",
    "        self.linear.weight.detach().zero_()\n",
    "        self.linear.bias.detach().zero_()\n",
    "    \n",
    "    def forward(self, x):\n",
    "        logits = self.linear(x)\n",
    "        probas = torch.sigmoid(logits)\n",
    "        \n",
    "        return probas\n",
    "\n",
    "model = LogisticRegression3(n_features=2).to(device)"
   ]
  },
  {
   "cell_type": "markdown",
   "metadata": {},
   "source": [
    "### cost"
   ]
  },
  {
   "cell_type": "code",
   "execution_count": 16,
   "metadata": {},
   "outputs": [
    {
     "name": "stderr",
     "output_type": "stream",
     "text": [
      "D:\\AdvanceIDE\\Anaconda3\\envs\\mlenv\\lib\\site-packages\\torch\\nn\\_reduction.py:43: UserWarning: size_average and reduce args will be deprecated, please use reduction='mean' instead.\n",
      "  warnings.warn(warning.format(ret))\n"
     ]
    }
   ],
   "source": [
    "cost_fn = torch.nn.BCELoss(reduce=\"sum\")"
   ]
  },
  {
   "cell_type": "markdown",
   "metadata": {},
   "source": [
    "### optimizer"
   ]
  },
  {
   "cell_type": "code",
   "execution_count": 17,
   "metadata": {},
   "outputs": [],
   "source": [
    "optimizer = torch.optim.SGD(model.parameters(), lr=0.01)"
   ]
  },
  {
   "cell_type": "code",
   "execution_count": 18,
   "metadata": {},
   "outputs": [
    {
     "name": "stdout",
     "output_type": "stream",
     "text": [
      "Epoch: 001 | Train ACC: 1.000 | Cost: 0.690\n",
      "Epoch: 002 | Train ACC: 1.000 | Cost: 0.688\n",
      "Epoch: 003 | Train ACC: 1.000 | Cost: 0.685\n",
      "Epoch: 004 | Train ACC: 1.000 | Cost: 0.682\n",
      "Epoch: 005 | Train ACC: 1.000 | Cost: 0.680\n",
      "Epoch: 006 | Train ACC: 1.000 | Cost: 0.677\n",
      "Epoch: 007 | Train ACC: 1.000 | Cost: 0.675\n",
      "Epoch: 008 | Train ACC: 1.000 | Cost: 0.672\n",
      "Epoch: 009 | Train ACC: 1.000 | Cost: 0.669\n",
      "Epoch: 010 | Train ACC: 1.000 | Cost: 0.667\n",
      "\n",
      "Model parameters:\n",
      "  Weights: Parameter containing:\n",
      "tensor([[ 0.0361, -0.0364]], device='cuda:0', requires_grad=True)\n",
      "  Bias: Parameter containing:\n",
      "tensor([-0.0014], device='cuda:0', requires_grad=True)\n"
     ]
    }
   ],
   "source": [
    "def accuracy(y, probas):\n",
    "    predict_labels = torch.round(probas)\n",
    "    acc = torch.sum((y == predict_labels).float()) / y.size()[0]\n",
    "    return acc\n",
    "\n",
    "epochs = 10\n",
    "\n",
    "x_train_tensor = torch.tensor(x_train, dtype=torch.float32, device=device)\n",
    "y_train_tensor = torch.tensor(y_train, dtype=torch.float32, device=device)\n",
    "\n",
    "for epoch in range(epochs):\n",
    "    # logits\n",
    "    out = model(x_train_tensor)\n",
    "    \n",
    "    # gradient\n",
    "    cost = cost_fn(out, y_train_tensor)\n",
    "    optimizer.zero_grad()\n",
    "    cost.backward()\n",
    "    \n",
    "    # update\n",
    "    optimizer.step()\n",
    "    \n",
    "    # log\n",
    "    probas = model(x_train_tensor)\n",
    "    acc = accuracy(y_train_tensor, probas)\n",
    "    print('Epoch: %03d' % (epoch + 1), end=\"\")\n",
    "    print(' | Train ACC: %.3f' % acc, end=\"\")\n",
    "    print(' | Cost: %.3f' % cost_fn(probas, y_train_tensor))\n",
    "    \n",
    "print('\\nModel parameters:')\n",
    "print('  Weights: %s' % model.linear.weight)\n",
    "print('  Bias: %s' % model.linear.bias)"
   ]
  },
  {
   "cell_type": "markdown",
   "metadata": {},
   "source": [
    "### Evaluating the Model"
   ]
  },
  {
   "cell_type": "code",
   "execution_count": 19,
   "metadata": {},
   "outputs": [
    {
     "name": "stdout",
     "output_type": "stream",
     "text": [
      "Test set accuracy: 93.33%\n"
     ]
    }
   ],
   "source": [
    "x_test_tensor = torch.tensor(x_test, dtype=torch.float32, device=device)\n",
    "y_test_tensor = torch.tensor(y_test, dtype=torch.float32, device=device)\n",
    "\n",
    "pred_probas = model(x_test_tensor)\n",
    "test_acc = accuracy(y_test_tensor, pred_probas)\n",
    "\n",
    "print('Test set accuracy: %.2f%%' % (test_acc*100))"
   ]
  },
  {
   "cell_type": "code",
   "execution_count": 20,
   "metadata": {},
   "outputs": [
    {
     "name": "stderr",
     "output_type": "stream",
     "text": [
      "No handles with labels found to put in legend.\n"
     ]
    },
    {
     "data": {
      "image/png": "[encoded data removed]",
      "text/plain": [
       "<Figure size 504x216 with 2 Axes>"
      ]
     },
     "metadata": {
      "needs_background": "light"
     },
     "output_type": "display_data"
    }
   ],
   "source": [
    "w, b = logr.weights, logr.bias\n",
    "\n",
    "x_min = -2\n",
    "y_min = ( (-(w[0] * x_min) - b[0]) \n",
    "          / w[1] )\n",
    "\n",
    "x_max = 2\n",
    "y_max = ( (-(w[0] * x_max) - b[0]) \n",
    "          / w[1] )\n",
    "\n",
    "fig, ax = plt.subplots(1, 2, sharex=True, figsize=(7, 3))\n",
    "\n",
    "ax[0].set_ylim([-3, 3])\n",
    "ax[1].set_ylim([-3, 3])\n",
    "\n",
    "ax[0].plot([x_min, x_max], [y_min, y_max])\n",
    "ax[1].plot([x_min, x_max], [y_min, y_max])\n",
    "\n",
    "ax[0].scatter(x_train[y_train[:, 0] == 1, 0], x_train[y_train[:, 0] == 1, 1])\n",
    "ax[0].scatter(x_train[y_train[:, 0] == 0, 0], x_train[y_train[:, 0] == 0, 1])\n",
    "ax[1].scatter(x_test[y_test[:, 0] == 1, 0], x_test[y_test[:, 0] == 1, 1])\n",
    "ax[1].scatter(x_test[y_test[:, 0] == 0, 0], x_test[y_test[:, 0] == 0, 1])\n",
    "\n",
    "ax[1].legend(loc='upper left')\n",
    "plt.show()"
   ]
  }
 ],
 "metadata": {
  "kernelspec": {
   "display_name": "Python 3",
   "language": "python",
   "name": "python3"
  },
  "language_info": {
   "codemirror_mode": {
    "name": "ipython",
    "version": 3
   },
   "file_extension": ".py",
   "mimetype": "text/x-python",
   "name": "python",
   "nbconvert_exporter": "python",
   "pygments_lexer": "ipython3",
   "version": "3.6.10"
  }
 },
 "nbformat": 4,
 "nbformat_minor": 4
}
